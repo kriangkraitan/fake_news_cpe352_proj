{
 "cells": [
  {
   "cell_type": "code",
   "execution_count": null,
   "id": "7fd8407f",
   "metadata": {},
   "outputs": [],
   "source": [
    "import os\n",
    "import sys\n",
    "import numpy as np\n",
    "import pandas as pd\n",
    "import seaborn as sns\n",
    "import matplotlib.pyplot as plt\n",
    "import re \n",
    "from nltk.corpus import stopwords \n",
    "from nltk.stem.porter import PorterStemmer\n",
    "from sklearn.feature_extraction.text import TfidfVectorizer\n",
    "from sklearn.model_selection import train_test_split \n",
    "from sklearn.linear_model import LogisticRegression\n",
    "from sklearn.metrics import accuracy_score \n",
    "print('Dependencies Loaded Successfully')"
   ]
  },
  {
   "cell_type": "markdown",
   "id": "d7b72f60",
   "metadata": {},
   "source": [
    "# 1. Loading dataset"
   ]
  },
  {
   "cell_type": "code",
   "execution_count": null,
   "id": "037dd260",
   "metadata": {},
   "outputs": [],
   "source": [
    "news_df = pd.read_csv('data/train.csv')\n",
    "news_test = pd.read_csv('data/test.csv')\n",
    "submit = pd.read_csv('data/submit.csv')"
   ]
  },
  {
   "cell_type": "code",
   "execution_count": null,
   "id": "2a8bc743",
   "metadata": {},
   "outputs": [],
   "source": [
    "news_df.sample(5)"
   ]
  },
  {
   "cell_type": "code",
   "execution_count": null,
   "id": "7d372719",
   "metadata": {},
   "outputs": [],
   "source": [
    "news_test.sample(5)"
   ]
  },
  {
   "cell_type": "code",
   "execution_count": null,
   "id": "78fd7624",
   "metadata": {},
   "outputs": [],
   "source": [
    "news_df.shape"
   ]
  },
  {
   "cell_type": "code",
   "execution_count": null,
   "id": "8d2d23b6",
   "metadata": {},
   "outputs": [],
   "source": [
    "news_test.shape"
   ]
  },
  {
   "cell_type": "code",
   "execution_count": null,
   "id": "4fe9b4a7",
   "metadata": {},
   "outputs": [],
   "source": [
    "news_df[['id']].drop_duplicates().shape"
   ]
  },
  {
   "cell_type": "code",
   "execution_count": null,
   "id": "226f4e52",
   "metadata": {},
   "outputs": [],
   "source": [
    "news_test.shape"
   ]
  },
  {
   "cell_type": "markdown",
   "id": "9c09e70e",
   "metadata": {},
   "source": [
    "# 2. DataFrame summary statistics"
   ]
  },
  {
   "cell_type": "code",
   "execution_count": null,
   "id": "c03e4ca8",
   "metadata": {},
   "outputs": [],
   "source": [
    "news_df['length'] = news_df['text'].str.len()"
   ]
  },
  {
   "cell_type": "code",
   "execution_count": null,
   "id": "581b74ee",
   "metadata": {},
   "outputs": [],
   "source": [
    "news_df.head()"
   ]
  },
  {
   "cell_type": "code",
   "execution_count": null,
   "id": "762a43e6",
   "metadata": {},
   "outputs": [],
   "source": [
    "news_df.columns"
   ]
  },
  {
   "cell_type": "code",
   "execution_count": null,
   "id": "05a08f65",
   "metadata": {},
   "outputs": [],
   "source": [
    "news_df.dtypes"
   ]
  },
  {
   "cell_type": "code",
   "execution_count": null,
   "id": "b3ca6cf3",
   "metadata": {},
   "outputs": [],
   "source": [
    "news_df.info()"
   ]
  },
  {
   "cell_type": "code",
   "execution_count": null,
   "id": "ba412cb7",
   "metadata": {},
   "outputs": [],
   "source": [
    "news_df.describe().T"
   ]
  },
  {
   "cell_type": "markdown",
   "id": "d703b519",
   "metadata": {},
   "source": [
    "# 3. Checking for missing data"
   ]
  },
  {
   "cell_type": "code",
   "execution_count": null,
   "id": "6b9325bc",
   "metadata": {},
   "outputs": [],
   "source": [
    "news_df.isna().sum()"
   ]
  },
  {
   "cell_type": "code",
   "execution_count": null,
   "id": "f4b35665",
   "metadata": {},
   "outputs": [],
   "source": [
    "print('Percent of missing \"Title\" records is %.2f%%' %((news_df['title'].isnull().sum()/news_df.shape[0])*100))"
   ]
  },
  {
   "cell_type": "code",
   "execution_count": null,
   "id": "eda5ff43",
   "metadata": {},
   "outputs": [],
   "source": [
    "print('Percent of missing \"Author\" records is %.2f%%' %((news_df['author'].isnull().sum()/news_df.shape[0])*100))"
   ]
  },
  {
   "cell_type": "code",
   "execution_count": null,
   "id": "5798184a",
   "metadata": {},
   "outputs": [],
   "source": [
    "print('Percent of missing \"Text\" records is %.2f%%' %((news_df['text'].isnull().sum()/news_df.shape[0])*100))"
   ]
  },
  {
   "cell_type": "code",
   "execution_count": null,
   "id": "48f20acd",
   "metadata": {},
   "outputs": [],
   "source": [
    "news_df.isna().sum()"
   ]
  },
  {
   "cell_type": "code",
   "execution_count": null,
   "id": "3ba10214",
   "metadata": {},
   "outputs": [],
   "source": [
    "news_df = news_df.fillna('')\n",
    "news_test = news_test.fillna('')"
   ]
  },
  {
   "cell_type": "code",
   "execution_count": null,
   "id": "367924f6",
   "metadata": {},
   "outputs": [],
   "source": [
    "news_df.isnull().sum()"
   ]
  },
  {
   "cell_type": "markdown",
   "id": "846097cd",
   "metadata": {},
   "source": [
    "# 4.Classification Plan "
   ]
  },
  {
   "cell_type": "code",
   "execution_count": null,
   "id": "e76b40e6",
   "metadata": {},
   "outputs": [],
   "source": [
    "news_df['total'] = news_df['author']+' '+news_df['title']\n",
    "news_test['total'] = news_test['author']+' '+news_test['title']"
   ]
  },
  {
   "cell_type": "code",
   "execution_count": null,
   "id": "1938ce3b",
   "metadata": {},
   "outputs": [],
   "source": [
    "X = news_df.drop(columns='label', axis=1)\n",
    "Y = news_df['label']"
   ]
  },
  {
   "cell_type": "code",
   "execution_count": null,
   "id": "06022d1d",
   "metadata": {},
   "outputs": [],
   "source": [
    "X"
   ]
  },
  {
   "cell_type": "code",
   "execution_count": null,
   "id": "55f0a76d",
   "metadata": {},
   "outputs": [],
   "source": [
    "Y"
   ]
  },
  {
   "cell_type": "code",
   "execution_count": null,
   "id": "d550a4e0",
   "metadata": {},
   "outputs": [],
   "source": [
    "port_stem = PorterStemmer()"
   ]
  },
  {
   "cell_type": "code",
   "execution_count": null,
   "id": "fe4c7d5e",
   "metadata": {},
   "outputs": [],
   "source": [
    "def stemming(content):\n",
    "    stemmed_content = re.sub('[^a-zA-Z]',' ',content)\n",
    "    stemmed_content = stemmed_content.lower()\n",
    "    stemmed_content = stemmed_content.split()\n",
    "    stemmed_content = [port_stem.stem(word) for word in stemmed_content if not word in stopwords.words('english')]\n",
    "    stemmed_content = ' '.join(stemmed_content)\n",
    "    return stemmed_content"
   ]
  },
  {
   "cell_type": "code",
   "execution_count": null,
   "id": "917099e4",
   "metadata": {},
   "outputs": [],
   "source": [
    "news_df['total'] = news_df['total'].apply(stemming)\n"
   ]
  },
  {
   "cell_type": "code",
   "execution_count": null,
   "id": "5ae8df01",
   "metadata": {},
   "outputs": [],
   "source": [
    "news_test['total'] = news_test['total'].apply(stemming)"
   ]
  },
  {
   "cell_type": "code",
   "execution_count": null,
   "id": "0852212c",
   "metadata": {},
   "outputs": [],
   "source": [
    "print(news_df['total'])"
   ]
  },
  {
   "cell_type": "code",
   "execution_count": null,
   "id": "6de95475",
   "metadata": {},
   "outputs": [],
   "source": [
    "X = news_df['total'].values\n",
    "Y = news_df['label'].values\n",
    "X_test = news_test['total'].values\n",
    "Y_test = submit['label'].values"
   ]
  },
  {
   "cell_type": "code",
   "execution_count": null,
   "id": "3617bfcf",
   "metadata": {},
   "outputs": [],
   "source": [
    "print(X)"
   ]
  },
  {
   "cell_type": "code",
   "execution_count": null,
   "id": "1ce7d90f",
   "metadata": {},
   "outputs": [],
   "source": [
    "print(Y)"
   ]
  },
  {
   "cell_type": "code",
   "execution_count": null,
   "id": "2eb68341",
   "metadata": {},
   "outputs": [],
   "source": [
    "vectorizer = TfidfVectorizer()\n",
    "vectorizer.fit(X)\n",
    "X = vectorizer.transform(X)"
   ]
  },
  {
   "cell_type": "code",
   "execution_count": null,
   "id": "ac787a02",
   "metadata": {},
   "outputs": [],
   "source": [
    "vectorizer = TfidfVectorizer()\n",
    "vectorizer.fit(X_test)\n",
    "X_test = vectorizer.transform(X_test)"
   ]
  },
  {
   "cell_type": "code",
   "execution_count": null,
   "id": "bff45c2e",
   "metadata": {},
   "outputs": [],
   "source": [
    "model = LogisticRegression()"
   ]
  },
  {
   "cell_type": "code",
   "execution_count": null,
   "id": "9eec2ec2",
   "metadata": {},
   "outputs": [],
   "source": [
    "model.fit(X, Y)"
   ]
  },
  {
   "cell_type": "code",
   "execution_count": null,
   "id": "6f5dc931",
   "metadata": {},
   "outputs": [],
   "source": [
    "X_train_prediction = model.predict(X)"
   ]
  },
  {
   "cell_type": "code",
   "execution_count": null,
   "id": "1fc96b0e",
   "metadata": {},
   "outputs": [],
   "source": [
    "training_data_accuracy = accuracy_score(X_train_prediction, Y)"
   ]
  },
  {
   "cell_type": "code",
   "execution_count": null,
   "id": "c2655e75",
   "metadata": {},
   "outputs": [],
   "source": [
    "print('Accuracy score of training data :', training_data_accuracy)"
   ]
  },
  {
   "cell_type": "code",
   "execution_count": null,
   "id": "bac534ee",
   "metadata": {},
   "outputs": [],
   "source": []
  }
 ],
 "metadata": {
  "kernelspec": {
   "display_name": "Python 3 (ipykernel)",
   "language": "python",
   "name": "python3"
  },
  "language_info": {
   "codemirror_mode": {
    "name": "ipython",
    "version": 3
   },
   "file_extension": ".py",
   "mimetype": "text/x-python",
   "name": "python",
   "nbconvert_exporter": "python",
   "pygments_lexer": "ipython3",
   "version": "3.8.11"
  }
 },
 "nbformat": 4,
 "nbformat_minor": 5
}
