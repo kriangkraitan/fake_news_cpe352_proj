{
 "cells": [
  {
   "cell_type": "code",
   "execution_count": null,
   "id": "6b2f59d7",
   "metadata": {},
   "outputs": [],
   "source": []
  },
  {
   "cell_type": "code",
   "execution_count": 1,
   "id": "d4071e11",
   "metadata": {},
   "outputs": [],
   "source": [
    "import pandas as pd"
   ]
  },
  {
   "cell_type": "code",
   "execution_count": 2,
   "id": "3343f28b",
   "metadata": {},
   "outputs": [],
   "source": [
    "data = pd.read_csv(\"data/fakenews_dataset.csv\")"
   ]
  },
  {
   "cell_type": "code",
   "execution_count": 3,
   "id": "8d031424",
   "metadata": {},
   "outputs": [],
   "source": [
    "data = data.drop(columns=[\"Unnamed: 0\"])"
   ]
  },
  {
   "cell_type": "code",
   "execution_count": 4,
   "id": "e2c5a1a6",
   "metadata": {},
   "outputs": [
    {
     "name": "stdout",
     "output_type": "stream",
     "text": [
      "<class 'pandas.core.frame.DataFrame'>\n",
      "RangeIndex: 26000 entries, 0 to 25999\n",
      "Data columns (total 5 columns):\n",
      " #   Column  Non-Null Count  Dtype \n",
      "---  ------  --------------  ----- \n",
      " 0   id      26000 non-null  int64 \n",
      " 1   title   25320 non-null  object\n",
      " 2   author  23540 non-null  object\n",
      " 3   text    25954 non-null  object\n",
      " 4   label   26000 non-null  int64 \n",
      "dtypes: int64(2), object(3)\n",
      "memory usage: 1015.8+ KB\n"
     ]
    }
   ],
   "source": [
    "data.info()"
   ]
  },
  {
   "cell_type": "code",
   "execution_count": 5,
   "id": "3ecf378d",
   "metadata": {},
   "outputs": [
    {
     "data": {
      "text/plain": [
       "(26000, 5)"
      ]
     },
     "execution_count": 5,
     "metadata": {},
     "output_type": "execute_result"
    }
   ],
   "source": [
    "data.shape"
   ]
  },
  {
   "cell_type": "markdown",
   "id": "1e60a644",
   "metadata": {},
   "source": [
    "### Exploratory Data Analysis"
   ]
  },
  {
   "cell_type": "code",
   "execution_count": 6,
   "id": "7587b414",
   "metadata": {},
   "outputs": [],
   "source": [
    "data[\"length\"] = data[\"text\"].str.len()"
   ]
  },
  {
   "cell_type": "code",
   "execution_count": 7,
   "id": "e10f39c5",
   "metadata": {},
   "outputs": [
    {
     "name": "stdout",
     "output_type": "stream",
     "text": [
      "<class 'pandas.core.frame.DataFrame'>\n",
      "RangeIndex: 26000 entries, 0 to 25999\n",
      "Data columns (total 6 columns):\n",
      " #   Column  Non-Null Count  Dtype  \n",
      "---  ------  --------------  -----  \n",
      " 0   id      26000 non-null  int64  \n",
      " 1   title   25320 non-null  object \n",
      " 2   author  23540 non-null  object \n",
      " 3   text    25954 non-null  object \n",
      " 4   label   26000 non-null  int64  \n",
      " 5   length  25954 non-null  float64\n",
      "dtypes: float64(1), int64(2), object(3)\n",
      "memory usage: 1.2+ MB\n"
     ]
    }
   ],
   "source": [
    "data.info()"
   ]
  },
  {
   "cell_type": "code",
   "execution_count": 8,
   "id": "bf83bbe1",
   "metadata": {},
   "outputs": [
    {
     "data": {
      "text/html": [
       "<div>\n",
       "<style scoped>\n",
       "    .dataframe tbody tr th:only-of-type {\n",
       "        vertical-align: middle;\n",
       "    }\n",
       "\n",
       "    .dataframe tbody tr th {\n",
       "        vertical-align: top;\n",
       "    }\n",
       "\n",
       "    .dataframe thead th {\n",
       "        text-align: right;\n",
       "    }\n",
       "</style>\n",
       "<table border=\"1\" class=\"dataframe\">\n",
       "  <thead>\n",
       "    <tr style=\"text-align: right;\">\n",
       "      <th></th>\n",
       "      <th>id</th>\n",
       "      <th>title</th>\n",
       "      <th>author</th>\n",
       "      <th>text</th>\n",
       "      <th>label</th>\n",
       "      <th>length</th>\n",
       "    </tr>\n",
       "  </thead>\n",
       "  <tbody>\n",
       "    <tr>\n",
       "      <th>0</th>\n",
       "      <td>0</td>\n",
       "      <td>House Dem Aide: We Didn’t Even See Comey’s Let...</td>\n",
       "      <td>Darrell Lucus</td>\n",
       "      <td>House Dem Aide: We Didn’t Even See Comey’s Let...</td>\n",
       "      <td>1</td>\n",
       "      <td>4930.0</td>\n",
       "    </tr>\n",
       "    <tr>\n",
       "      <th>1</th>\n",
       "      <td>1</td>\n",
       "      <td>FLYNN: Hillary Clinton, Big Woman on Campus - ...</td>\n",
       "      <td>Daniel J. Flynn</td>\n",
       "      <td>Ever get the feeling your life circles the rou...</td>\n",
       "      <td>0</td>\n",
       "      <td>4160.0</td>\n",
       "    </tr>\n",
       "    <tr>\n",
       "      <th>2</th>\n",
       "      <td>2</td>\n",
       "      <td>Why the Truth Might Get You Fired</td>\n",
       "      <td>Consortiumnews.com</td>\n",
       "      <td>Why the Truth Might Get You Fired October 29, ...</td>\n",
       "      <td>1</td>\n",
       "      <td>7692.0</td>\n",
       "    </tr>\n",
       "    <tr>\n",
       "      <th>3</th>\n",
       "      <td>3</td>\n",
       "      <td>15 Civilians Killed In Single US Airstrike Hav...</td>\n",
       "      <td>Jessica Purkiss</td>\n",
       "      <td>Videos 15 Civilians Killed In Single US Airstr...</td>\n",
       "      <td>1</td>\n",
       "      <td>3237.0</td>\n",
       "    </tr>\n",
       "    <tr>\n",
       "      <th>4</th>\n",
       "      <td>4</td>\n",
       "      <td>Iranian woman jailed for fictional unpublished...</td>\n",
       "      <td>Howard Portnoy</td>\n",
       "      <td>Print \\nAn Iranian woman has been sentenced to...</td>\n",
       "      <td>1</td>\n",
       "      <td>938.0</td>\n",
       "    </tr>\n",
       "  </tbody>\n",
       "</table>\n",
       "</div>"
      ],
      "text/plain": [
       "   id                                              title              author  \\\n",
       "0   0  House Dem Aide: We Didn’t Even See Comey’s Let...       Darrell Lucus   \n",
       "1   1  FLYNN: Hillary Clinton, Big Woman on Campus - ...     Daniel J. Flynn   \n",
       "2   2                  Why the Truth Might Get You Fired  Consortiumnews.com   \n",
       "3   3  15 Civilians Killed In Single US Airstrike Hav...     Jessica Purkiss   \n",
       "4   4  Iranian woman jailed for fictional unpublished...      Howard Portnoy   \n",
       "\n",
       "                                                text  label  length  \n",
       "0  House Dem Aide: We Didn’t Even See Comey’s Let...      1  4930.0  \n",
       "1  Ever get the feeling your life circles the rou...      0  4160.0  \n",
       "2  Why the Truth Might Get You Fired October 29, ...      1  7692.0  \n",
       "3  Videos 15 Civilians Killed In Single US Airstr...      1  3237.0  \n",
       "4  Print \\nAn Iranian woman has been sentenced to...      1   938.0  "
      ]
     },
     "execution_count": 8,
     "metadata": {},
     "output_type": "execute_result"
    }
   ],
   "source": [
    "data.head()"
   ]
  },
  {
   "cell_type": "code",
   "execution_count": 9,
   "id": "10170e0f",
   "metadata": {},
   "outputs": [
    {
     "data": {
      "text/html": [
       "<div>\n",
       "<style scoped>\n",
       "    .dataframe tbody tr th:only-of-type {\n",
       "        vertical-align: middle;\n",
       "    }\n",
       "\n",
       "    .dataframe tbody tr th {\n",
       "        vertical-align: top;\n",
       "    }\n",
       "\n",
       "    .dataframe thead th {\n",
       "        text-align: right;\n",
       "    }\n",
       "</style>\n",
       "<table border=\"1\" class=\"dataframe\">\n",
       "  <thead>\n",
       "    <tr style=\"text-align: right;\">\n",
       "      <th></th>\n",
       "      <th>count</th>\n",
       "      <th>mean</th>\n",
       "      <th>std</th>\n",
       "      <th>min</th>\n",
       "      <th>25%</th>\n",
       "      <th>50%</th>\n",
       "      <th>75%</th>\n",
       "      <th>max</th>\n",
       "    </tr>\n",
       "  </thead>\n",
       "  <tbody>\n",
       "    <tr>\n",
       "      <th>id</th>\n",
       "      <td>26000.0</td>\n",
       "      <td>12999.500000</td>\n",
       "      <td>7505.697836</td>\n",
       "      <td>0.0</td>\n",
       "      <td>6499.75</td>\n",
       "      <td>12999.5</td>\n",
       "      <td>19499.25</td>\n",
       "      <td>25999.0</td>\n",
       "    </tr>\n",
       "    <tr>\n",
       "      <th>label</th>\n",
       "      <td>26000.0</td>\n",
       "      <td>0.510538</td>\n",
       "      <td>0.499899</td>\n",
       "      <td>0.0</td>\n",
       "      <td>0.00</td>\n",
       "      <td>1.0</td>\n",
       "      <td>1.00</td>\n",
       "      <td>1.0</td>\n",
       "    </tr>\n",
       "    <tr>\n",
       "      <th>length</th>\n",
       "      <td>25954.0</td>\n",
       "      <td>4572.113932</td>\n",
       "      <td>5104.336732</td>\n",
       "      <td>1.0</td>\n",
       "      <td>1642.25</td>\n",
       "      <td>3386.5</td>\n",
       "      <td>6319.75</td>\n",
       "      <td>142961.0</td>\n",
       "    </tr>\n",
       "  </tbody>\n",
       "</table>\n",
       "</div>"
      ],
      "text/plain": [
       "          count          mean          std  min      25%      50%       75%  \\\n",
       "id      26000.0  12999.500000  7505.697836  0.0  6499.75  12999.5  19499.25   \n",
       "label   26000.0      0.510538     0.499899  0.0     0.00      1.0      1.00   \n",
       "length  25954.0   4572.113932  5104.336732  1.0  1642.25   3386.5   6319.75   \n",
       "\n",
       "             max  \n",
       "id       25999.0  \n",
       "label        1.0  \n",
       "length  142961.0  "
      ]
     },
     "execution_count": 9,
     "metadata": {},
     "output_type": "execute_result"
    }
   ],
   "source": [
    "data.describe().T"
   ]
  },
  {
   "cell_type": "markdown",
   "id": "5e79b539",
   "metadata": {},
   "source": [
    "### Distribution of length"
   ]
  },
  {
   "cell_type": "code",
   "execution_count": 10,
   "id": "a68f5270",
   "metadata": {},
   "outputs": [
    {
     "data": {
      "text/plain": [
       "<AxesSubplot:>"
      ]
     },
     "execution_count": 10,
     "metadata": {},
     "output_type": "execute_result"
    },
    {
     "data": {
      "image/png": "[encoded data removed]",
      "text/plain": [
       "<Figure size 576x72 with 1 Axes>"
      ]
     },
     "metadata": {
      "needs_background": "light"
     },
     "output_type": "display_data"
    }
   ],
   "source": [
    "data['length'].plot(kind='box', vert=False, figsize=(8, 1))"
   ]
  },
  {
   "cell_type": "code",
   "execution_count": 11,
   "id": "68418bf3",
   "metadata": {
    "scrolled": true
   },
   "outputs": [
    {
     "data": {
      "text/plain": [
       "<AxesSubplot:ylabel='Frequency'>"
      ]
     },
     "execution_count": 11,
     "metadata": {},
     "output_type": "execute_result"
    },
    {
     "data": {
      "image/png": "[encoded data removed]",
      "text/plain": [
       "<Figure size 432x288 with 1 Axes>"
      ]
     },
     "metadata": {
      "needs_background": "light"
     },
     "output_type": "display_data"
    }
   ],
   "source": [
    "data['length'].plot(kind='hist', bins=50, figsize=(6, 4), edgecolor='k')"
   ]
  },
  {
   "cell_type": "code",
   "execution_count": 12,
   "id": "d3ce18e3",
   "metadata": {},
   "outputs": [
    {
     "data": {
      "image/png": "[encoded data removed]",
      "text/plain": [
       "<Figure size 432x288 with 1 Axes>"
      ]
     },
     "metadata": {},
     "output_type": "display_data"
    }
   ],
   "source": [
    "import seaborn as sns\n",
    "\n",
    "sns.set_theme(style=\"whitegrid\")\n",
    "ax = sns.violinplot(x=data[\"length\"])"
   ]
  },
  {
   "cell_type": "code",
   "execution_count": 13,
   "id": "8911a6b9",
   "metadata": {},
   "outputs": [
    {
     "data": {
      "text/plain": [
       "<seaborn.axisgrid.FacetGrid at 0x1dfd48ba0a0>"
      ]
     },
     "execution_count": 13,
     "metadata": {},
     "output_type": "execute_result"
    },
    {
     "data": {
      "image/png": "[encoded data removed]",
      "text/plain": [
       "<Figure size 360x360 with 1 Axes>"
      ]
     },
     "metadata": {},
     "output_type": "display_data"
    }
   ],
   "source": [
    "import seaborn as sns\n",
    "\n",
    "#label = data[['label',\"length\"]] #.isin for check condition\n",
    "sns.catplot(data=data[['label',\"length\"]], x='label', y=\"length\", kind='violin')"
   ]
  },
  {
   "cell_type": "markdown",
   "id": "d15521c8",
   "metadata": {},
   "source": [
    "## Clean and Pre-processing Data"
   ]
  },
  {
   "cell_type": "markdown",
   "id": "3c12aa1f",
   "metadata": {},
   "source": [
    "### checking Missing Data"
   ]
  },
  {
   "cell_type": "code",
   "execution_count": 14,
   "id": "74a80085",
   "metadata": {},
   "outputs": [
    {
     "data": {
      "text/plain": [
       "id           0\n",
       "title      680\n",
       "author    2460\n",
       "text        46\n",
       "label        0\n",
       "length      46\n",
       "dtype: int64"
      ]
     },
     "execution_count": 14,
     "metadata": {},
     "output_type": "execute_result"
    }
   ],
   "source": [
    "data.isna().sum()"
   ]
  },
  {
   "cell_type": "code",
   "execution_count": 15,
   "id": "10c2a7ac",
   "metadata": {},
   "outputs": [
    {
     "data": {
      "text/plain": [
       "24693"
      ]
     },
     "execution_count": 15,
     "metadata": {},
     "output_type": "execute_result"
    }
   ],
   "source": [
    "len(data[\"title\"].unique())"
   ]
  },
  {
   "cell_type": "markdown",
   "id": "40c9a3d8",
   "metadata": {},
   "source": [
    "### missing title"
   ]
  },
  {
   "cell_type": "code",
   "execution_count": 16,
   "id": "0343bcee",
   "metadata": {},
   "outputs": [
    {
     "data": {
      "text/plain": [
       "(680, 6)"
      ]
     },
     "execution_count": 16,
     "metadata": {},
     "output_type": "execute_result"
    }
   ],
   "source": [
    "null_title = data[data[\"title\"].isna() == True]\n",
    "null_title.shape"
   ]
  },
  {
   "cell_type": "code",
   "execution_count": 17,
   "id": "59c36255",
   "metadata": {
    "scrolled": true
   },
   "outputs": [
    {
     "data": {
      "text/html": [
       "<div>\n",
       "<style scoped>\n",
       "    .dataframe tbody tr th:only-of-type {\n",
       "        vertical-align: middle;\n",
       "    }\n",
       "\n",
       "    .dataframe tbody tr th {\n",
       "        vertical-align: top;\n",
       "    }\n",
       "\n",
       "    .dataframe thead th {\n",
       "        text-align: right;\n",
       "    }\n",
       "</style>\n",
       "<table border=\"1\" class=\"dataframe\">\n",
       "  <thead>\n",
       "    <tr style=\"text-align: right;\">\n",
       "      <th></th>\n",
       "      <th>id</th>\n",
       "      <th>title</th>\n",
       "      <th>author</th>\n",
       "      <th>text</th>\n",
       "      <th>label</th>\n",
       "      <th>length</th>\n",
       "    </tr>\n",
       "  </thead>\n",
       "  <tbody>\n",
       "    <tr>\n",
       "      <th>53</th>\n",
       "      <td>53</td>\n",
       "      <td>NaN</td>\n",
       "      <td>Dairy✓ᵀᴿᵁᴹᴾ</td>\n",
       "      <td>Sounds like he has our president pegged. What ...</td>\n",
       "      <td>1</td>\n",
       "      <td>679.0</td>\n",
       "    </tr>\n",
       "    <tr>\n",
       "      <th>120</th>\n",
       "      <td>120</td>\n",
       "      <td>NaN</td>\n",
       "      <td>Anonymous</td>\n",
       "      <td>Same people all the time , i dont know how you...</td>\n",
       "      <td>1</td>\n",
       "      <td>135.0</td>\n",
       "    </tr>\n",
       "    <tr>\n",
       "      <th>124</th>\n",
       "      <td>124</td>\n",
       "      <td>NaN</td>\n",
       "      <td>SeekSearchDestory</td>\n",
       "      <td>You know, outside of any morality arguments, i...</td>\n",
       "      <td>1</td>\n",
       "      <td>533.0</td>\n",
       "    </tr>\n",
       "    <tr>\n",
       "      <th>140</th>\n",
       "      <td>140</td>\n",
       "      <td>NaN</td>\n",
       "      <td>Anonymous</td>\n",
       "      <td>There is a lot more than meets the eye to this...</td>\n",
       "      <td>1</td>\n",
       "      <td>736.0</td>\n",
       "    </tr>\n",
       "    <tr>\n",
       "      <th>196</th>\n",
       "      <td>196</td>\n",
       "      <td>NaN</td>\n",
       "      <td>Raffie</td>\n",
       "      <td>They got the heater turned up on high.</td>\n",
       "      <td>1</td>\n",
       "      <td>38.0</td>\n",
       "    </tr>\n",
       "  </tbody>\n",
       "</table>\n",
       "</div>"
      ],
      "text/plain": [
       "      id title             author  \\\n",
       "53    53   NaN        Dairy✓ᵀᴿᵁᴹᴾ   \n",
       "120  120   NaN          Anonymous   \n",
       "124  124   NaN  SeekSearchDestory   \n",
       "140  140   NaN          Anonymous   \n",
       "196  196   NaN             Raffie   \n",
       "\n",
       "                                                  text  label  length  \n",
       "53   Sounds like he has our president pegged. What ...      1   679.0  \n",
       "120  Same people all the time , i dont know how you...      1   135.0  \n",
       "124  You know, outside of any morality arguments, i...      1   533.0  \n",
       "140  There is a lot more than meets the eye to this...      1   736.0  \n",
       "196             They got the heater turned up on high.      1    38.0  "
      ]
     },
     "execution_count": 17,
     "metadata": {},
     "output_type": "execute_result"
    }
   ],
   "source": [
    "null_title_fakenews = null_title[null_title[\"label\"].isin([1])]\n",
    "null_title_fakenews.head()"
   ]
  },
  {
   "cell_type": "code",
   "execution_count": 18,
   "id": "59164ad1",
   "metadata": {},
   "outputs": [
    {
     "data": {
      "text/html": [
       "<div>\n",
       "<style scoped>\n",
       "    .dataframe tbody tr th:only-of-type {\n",
       "        vertical-align: middle;\n",
       "    }\n",
       "\n",
       "    .dataframe tbody tr th {\n",
       "        vertical-align: top;\n",
       "    }\n",
       "\n",
       "    .dataframe thead th {\n",
       "        text-align: right;\n",
       "    }\n",
       "</style>\n",
       "<table border=\"1\" class=\"dataframe\">\n",
       "  <thead>\n",
       "    <tr style=\"text-align: right;\">\n",
       "      <th></th>\n",
       "      <th>id</th>\n",
       "      <th>title</th>\n",
       "      <th>author</th>\n",
       "      <th>text</th>\n",
       "      <th>label</th>\n",
       "      <th>length</th>\n",
       "    </tr>\n",
       "  </thead>\n",
       "  <tbody>\n",
       "    <tr>\n",
       "      <th>20822</th>\n",
       "      <td>20822</td>\n",
       "      <td>NaN</td>\n",
       "      <td>Dale Johnson</td>\n",
       "      <td>VERSE 9. THE STATE OF NATIONAL INSECURITY\\nThe...</td>\n",
       "      <td>0</td>\n",
       "      <td>10680.0</td>\n",
       "    </tr>\n",
       "    <tr>\n",
       "      <th>21387</th>\n",
       "      <td>21387</td>\n",
       "      <td>NaN</td>\n",
       "      <td>Enjoykin4</td>\n",
       "      <td>A leading US senator: US Supporting War in Syr...</td>\n",
       "      <td>0</td>\n",
       "      <td>5289.0</td>\n",
       "    </tr>\n",
       "    <tr>\n",
       "      <th>22559</th>\n",
       "      <td>22559</td>\n",
       "      <td>NaN</td>\n",
       "      <td>Enjoykin4</td>\n",
       "      <td>A leading US senator: US Supporting War in Syr...</td>\n",
       "      <td>0</td>\n",
       "      <td>5289.0</td>\n",
       "    </tr>\n",
       "    <tr>\n",
       "      <th>23225</th>\n",
       "      <td>23225</td>\n",
       "      <td>NaN</td>\n",
       "      <td>Enjoykin4</td>\n",
       "      <td>A leading US senator: US Supporting War in Syr...</td>\n",
       "      <td>0</td>\n",
       "      <td>5289.0</td>\n",
       "    </tr>\n",
       "    <tr>\n",
       "      <th>24261</th>\n",
       "      <td>24261</td>\n",
       "      <td>NaN</td>\n",
       "      <td>tokyowashi (noreply@blogger.com)</td>\n",
       "      <td>United States Marine Field McConnell  Plum Cit...</td>\n",
       "      <td>0</td>\n",
       "      <td>24205.0</td>\n",
       "    </tr>\n",
       "  </tbody>\n",
       "</table>\n",
       "</div>"
      ],
      "text/plain": [
       "          id title                            author  \\\n",
       "20822  20822   NaN                      Dale Johnson   \n",
       "21387  21387   NaN                         Enjoykin4   \n",
       "22559  22559   NaN                         Enjoykin4   \n",
       "23225  23225   NaN                         Enjoykin4   \n",
       "24261  24261   NaN  tokyowashi (noreply@blogger.com)   \n",
       "\n",
       "                                                    text  label   length  \n",
       "20822  VERSE 9. THE STATE OF NATIONAL INSECURITY\\nThe...      0  10680.0  \n",
       "21387  A leading US senator: US Supporting War in Syr...      0   5289.0  \n",
       "22559  A leading US senator: US Supporting War in Syr...      0   5289.0  \n",
       "23225  A leading US senator: US Supporting War in Syr...      0   5289.0  \n",
       "24261  United States Marine Field McConnell  Plum Cit...      0  24205.0  "
      ]
     },
     "execution_count": 18,
     "metadata": {},
     "output_type": "execute_result"
    }
   ],
   "source": [
    "null_title_realnews = null_title[null_title[\"label\"].isin([0])]\n",
    "null_title_realnews"
   ]
  },
  {
   "cell_type": "markdown",
   "id": "35f8bd49",
   "metadata": {},
   "source": [
    "### null title --> real news : 5 , fake news : 675 "
   ]
  },
  {
   "cell_type": "markdown",
   "id": "85b63879",
   "metadata": {},
   "source": [
    "### Found duplicated row "
   ]
  },
  {
   "cell_type": "code",
   "execution_count": 21,
   "id": "aed1229a",
   "metadata": {},
   "outputs": [],
   "source": [
    "data.drop_duplicates(subset=[\"author\",\"title\",\"text\"],inplace=True)"
   ]
  },
  {
   "cell_type": "markdown",
   "id": "d9640a02",
   "metadata": {},
   "source": [
    "### drop duplicated value from title and text columns"
   ]
  },
  {
   "cell_type": "code",
   "execution_count": 22,
   "id": "1c5d6939",
   "metadata": {},
   "outputs": [
    {
     "data": {
      "text/plain": [
       "(25846, 6)"
      ]
     },
     "execution_count": 22,
     "metadata": {},
     "output_type": "execute_result"
    }
   ],
   "source": [
    "data.shape"
   ]
  },
  {
   "cell_type": "markdown",
   "id": "f5d7af35",
   "metadata": {},
   "source": [
    "### missing author"
   ]
  },
  {
   "cell_type": "code",
   "execution_count": 8,
   "id": "c19acf50",
   "metadata": {},
   "outputs": [
    {
     "data": {
      "text/plain": [
       "(2419, 5)"
      ]
     },
     "execution_count": 8,
     "metadata": {},
     "output_type": "execute_result"
    }
   ],
   "source": [
    "null_author = data[data[\"author\"].isna() == True]\n",
    "null_author.shape"
   ]
  },
  {
   "cell_type": "code",
   "execution_count": 9,
   "id": "4d73289a",
   "metadata": {},
   "outputs": [
    {
     "data": {
      "text/html": [
       "<div>\n",
       "<style scoped>\n",
       "    .dataframe tbody tr th:only-of-type {\n",
       "        vertical-align: middle;\n",
       "    }\n",
       "\n",
       "    .dataframe tbody tr th {\n",
       "        vertical-align: top;\n",
       "    }\n",
       "\n",
       "    .dataframe thead th {\n",
       "        text-align: right;\n",
       "    }\n",
       "</style>\n",
       "<table border=\"1\" class=\"dataframe\">\n",
       "  <thead>\n",
       "    <tr style=\"text-align: right;\">\n",
       "      <th></th>\n",
       "      <th>id</th>\n",
       "      <th>title</th>\n",
       "      <th>author</th>\n",
       "      <th>text</th>\n",
       "      <th>label</th>\n",
       "    </tr>\n",
       "  </thead>\n",
       "  <tbody>\n",
       "    <tr>\n",
       "      <th>6</th>\n",
       "      <td>6</td>\n",
       "      <td>Life: Life Of Luxury: Elton John’s 6 Favorite ...</td>\n",
       "      <td>NaN</td>\n",
       "      <td>Ever wonder how Britain’s most iconic pop pian...</td>\n",
       "      <td>1</td>\n",
       "    </tr>\n",
       "    <tr>\n",
       "      <th>20</th>\n",
       "      <td>20</td>\n",
       "      <td>News: Hope For The GOP: A Nude Paul Ryan Has J...</td>\n",
       "      <td>NaN</td>\n",
       "      <td>Email \\nSince Donald Trump entered the electio...</td>\n",
       "      <td>1</td>\n",
       "    </tr>\n",
       "    <tr>\n",
       "      <th>23</th>\n",
       "      <td>23</td>\n",
       "      <td>Massachusetts Cop’s Wife Busted for Pinning Fa...</td>\n",
       "      <td>NaN</td>\n",
       "      <td>Massachusetts Cop’s Wife Busted for Pinning Fa...</td>\n",
       "      <td>1</td>\n",
       "    </tr>\n",
       "    <tr>\n",
       "      <th>31</th>\n",
       "      <td>31</td>\n",
       "      <td>Israel is Becoming Pivotal to China’s Mid-East...</td>\n",
       "      <td>NaN</td>\n",
       "      <td>Country: Israel While China is silently playin...</td>\n",
       "      <td>1</td>\n",
       "    </tr>\n",
       "    <tr>\n",
       "      <th>43</th>\n",
       "      <td>43</td>\n",
       "      <td>Can I have one girlfriend without you bastards...</td>\n",
       "      <td>NaN</td>\n",
       "      <td>Can I have one girlfriend without you bastards...</td>\n",
       "      <td>1</td>\n",
       "    </tr>\n",
       "  </tbody>\n",
       "</table>\n",
       "</div>"
      ],
      "text/plain": [
       "    id                                              title author  \\\n",
       "6    6  Life: Life Of Luxury: Elton John’s 6 Favorite ...    NaN   \n",
       "20  20  News: Hope For The GOP: A Nude Paul Ryan Has J...    NaN   \n",
       "23  23  Massachusetts Cop’s Wife Busted for Pinning Fa...    NaN   \n",
       "31  31  Israel is Becoming Pivotal to China’s Mid-East...    NaN   \n",
       "43  43  Can I have one girlfriend without you bastards...    NaN   \n",
       "\n",
       "                                                 text  label  \n",
       "6   Ever wonder how Britain’s most iconic pop pian...      1  \n",
       "20  Email \\nSince Donald Trump entered the electio...      1  \n",
       "23  Massachusetts Cop’s Wife Busted for Pinning Fa...      1  \n",
       "31  Country: Israel While China is silently playin...      1  \n",
       "43  Can I have one girlfriend without you bastards...      1  "
      ]
     },
     "execution_count": 9,
     "metadata": {},
     "output_type": "execute_result"
    }
   ],
   "source": [
    "null_author_fakenews = null_author[null_author[\"label\"].isin([1])]\n",
    "null_author_fakenews.head()"
   ]
  },
  {
   "cell_type": "code",
   "execution_count": 10,
   "id": "a2e60a15",
   "metadata": {},
   "outputs": [
    {
     "data": {
      "text/html": [
       "<div>\n",
       "<style scoped>\n",
       "    .dataframe tbody tr th:only-of-type {\n",
       "        vertical-align: middle;\n",
       "    }\n",
       "\n",
       "    .dataframe tbody tr th {\n",
       "        vertical-align: top;\n",
       "    }\n",
       "\n",
       "    .dataframe thead th {\n",
       "        text-align: right;\n",
       "    }\n",
       "</style>\n",
       "<table border=\"1\" class=\"dataframe\">\n",
       "  <thead>\n",
       "    <tr style=\"text-align: right;\">\n",
       "      <th></th>\n",
       "      <th>id</th>\n",
       "      <th>title</th>\n",
       "      <th>author</th>\n",
       "      <th>text</th>\n",
       "      <th>label</th>\n",
       "    </tr>\n",
       "  </thead>\n",
       "  <tbody>\n",
       "    <tr>\n",
       "      <th>8</th>\n",
       "      <td>8</td>\n",
       "      <td>Excerpts From a Draft Script for Donald Trump’...</td>\n",
       "      <td>NaN</td>\n",
       "      <td>Donald J. Trump is scheduled to make a highly ...</td>\n",
       "      <td>0</td>\n",
       "    </tr>\n",
       "    <tr>\n",
       "      <th>685</th>\n",
       "      <td>685</td>\n",
       "      <td>The New York Times to Offer Open Access on Web...</td>\n",
       "      <td>NaN</td>\n",
       "      <td>The New York Times is inviting readers to take...</td>\n",
       "      <td>0</td>\n",
       "    </tr>\n",
       "    <tr>\n",
       "      <th>2785</th>\n",
       "      <td>2785</td>\n",
       "      <td>How the Poll Was Conducted - The New York Times</td>\n",
       "      <td>NaN</td>\n",
       "      <td>The latest New York   News Poll is based on te...</td>\n",
       "      <td>0</td>\n",
       "    </tr>\n",
       "    <tr>\n",
       "      <th>3203</th>\n",
       "      <td>3203</td>\n",
       "      <td>37 Who Saw Murder Didn’t Call the Police - The...</td>\n",
       "      <td>NaN</td>\n",
       "      <td>For more than half an hour 38 respectable, law...</td>\n",
       "      <td>0</td>\n",
       "    </tr>\n",
       "    <tr>\n",
       "      <th>3470</th>\n",
       "      <td>3470</td>\n",
       "      <td>‘My First Gay Bar’: Rachel Maddow, Andy Cohen ...</td>\n",
       "      <td>NaN</td>\n",
       "      <td>For generations of gays and lesbians, especial...</td>\n",
       "      <td>0</td>\n",
       "    </tr>\n",
       "  </tbody>\n",
       "</table>\n",
       "</div>"
      ],
      "text/plain": [
       "        id                                              title author  \\\n",
       "8        8  Excerpts From a Draft Script for Donald Trump’...    NaN   \n",
       "685    685  The New York Times to Offer Open Access on Web...    NaN   \n",
       "2785  2785    How the Poll Was Conducted - The New York Times    NaN   \n",
       "3203  3203  37 Who Saw Murder Didn’t Call the Police - The...    NaN   \n",
       "3470  3470  ‘My First Gay Bar’: Rachel Maddow, Andy Cohen ...    NaN   \n",
       "\n",
       "                                                   text  label  \n",
       "8     Donald J. Trump is scheduled to make a highly ...      0  \n",
       "685   The New York Times is inviting readers to take...      0  \n",
       "2785  The latest New York   News Poll is based on te...      0  \n",
       "3203  For more than half an hour 38 respectable, law...      0  \n",
       "3470  For generations of gays and lesbians, especial...      0  "
      ]
     },
     "execution_count": 10,
     "metadata": {},
     "output_type": "execute_result"
    }
   ],
   "source": [
    "null_author_realnews = null_author[null_author[\"label\"].isin([0])]\n",
    "null_author_realnews.head()"
   ]
  },
  {
   "cell_type": "markdown",
   "id": "334b6b74",
   "metadata": {},
   "source": [
    "### null author --> real news : 147 , fake news : 2313"
   ]
  },
  {
   "cell_type": "markdown",
   "id": "60e96bf6",
   "metadata": {},
   "source": [
    "### missing text"
   ]
  },
  {
   "cell_type": "code",
   "execution_count": 11,
   "id": "347c07a2",
   "metadata": {},
   "outputs": [
    {
     "data": {
      "text/plain": [
       "(46, 5)"
      ]
     },
     "execution_count": 11,
     "metadata": {},
     "output_type": "execute_result"
    }
   ],
   "source": [
    "null_text = data[data[\"text\"].isna() == True]\n",
    "null_text.shape"
   ]
  },
  {
   "cell_type": "code",
   "execution_count": 12,
   "id": "52cb4dc5",
   "metadata": {},
   "outputs": [
    {
     "data": {
      "text/html": [
       "<div>\n",
       "<style scoped>\n",
       "    .dataframe tbody tr th:only-of-type {\n",
       "        vertical-align: middle;\n",
       "    }\n",
       "\n",
       "    .dataframe tbody tr th {\n",
       "        vertical-align: top;\n",
       "    }\n",
       "\n",
       "    .dataframe thead th {\n",
       "        text-align: right;\n",
       "    }\n",
       "</style>\n",
       "<table border=\"1\" class=\"dataframe\">\n",
       "  <thead>\n",
       "    <tr style=\"text-align: right;\">\n",
       "      <th></th>\n",
       "      <th>id</th>\n",
       "      <th>title</th>\n",
       "      <th>author</th>\n",
       "      <th>text</th>\n",
       "      <th>label</th>\n",
       "    </tr>\n",
       "  </thead>\n",
       "  <tbody>\n",
       "    <tr>\n",
       "      <th>142</th>\n",
       "      <td>142</td>\n",
       "      <td>Gorafi Magazine : Entretien exclusif avec Bara...</td>\n",
       "      <td>NaN</td>\n",
       "      <td>NaN</td>\n",
       "      <td>1</td>\n",
       "    </tr>\n",
       "    <tr>\n",
       "      <th>573</th>\n",
       "      <td>573</td>\n",
       "      <td>Le top des recherches Google passe en top des ...</td>\n",
       "      <td>NaN</td>\n",
       "      <td>NaN</td>\n",
       "      <td>1</td>\n",
       "    </tr>\n",
       "    <tr>\n",
       "      <th>1200</th>\n",
       "      <td>1200</td>\n",
       "      <td>La Corée du Nord annonce avoir envoyé un missi...</td>\n",
       "      <td>NaN</td>\n",
       "      <td>NaN</td>\n",
       "      <td>1</td>\n",
       "    </tr>\n",
       "    <tr>\n",
       "      <th>1911</th>\n",
       "      <td>1911</td>\n",
       "      <td>Grand-Prix du Brésil – Romain Grosjean obtient...</td>\n",
       "      <td>NaN</td>\n",
       "      <td>NaN</td>\n",
       "      <td>1</td>\n",
       "    </tr>\n",
       "    <tr>\n",
       "      <th>2148</th>\n",
       "      <td>2148</td>\n",
       "      <td>Gorafi Magazine: Barack Obama « Je vous ai déj...</td>\n",
       "      <td>NaN</td>\n",
       "      <td>NaN</td>\n",
       "      <td>1</td>\n",
       "    </tr>\n",
       "  </tbody>\n",
       "</table>\n",
       "</div>"
      ],
      "text/plain": [
       "        id                                              title author text  \\\n",
       "142    142  Gorafi Magazine : Entretien exclusif avec Bara...    NaN  NaN   \n",
       "573    573  Le top des recherches Google passe en top des ...    NaN  NaN   \n",
       "1200  1200  La Corée du Nord annonce avoir envoyé un missi...    NaN  NaN   \n",
       "1911  1911  Grand-Prix du Brésil – Romain Grosjean obtient...    NaN  NaN   \n",
       "2148  2148  Gorafi Magazine: Barack Obama « Je vous ai déj...    NaN  NaN   \n",
       "\n",
       "      label  \n",
       "142       1  \n",
       "573       1  \n",
       "1200      1  \n",
       "1911      1  \n",
       "2148      1  "
      ]
     },
     "execution_count": 12,
     "metadata": {},
     "output_type": "execute_result"
    }
   ],
   "source": [
    "null_text_fakenews = null_text[null_text[\"label\"].isin([1])]\n",
    "null_text_fakenews.head()"
   ]
  },
  {
   "cell_type": "code",
   "execution_count": 13,
   "id": "5a4d27f9",
   "metadata": {},
   "outputs": [
    {
     "data": {
      "text/plain": [
       "(46, 5)"
      ]
     },
     "execution_count": 13,
     "metadata": {},
     "output_type": "execute_result"
    }
   ],
   "source": [
    "null_text_fakenews.shape"
   ]
  },
  {
   "cell_type": "markdown",
   "id": "a1246bac",
   "metadata": {},
   "source": [
    "### insight : all missing text value is fake news"
   ]
  },
  {
   "cell_type": "code",
   "execution_count": 20,
   "id": "5e80a67d",
   "metadata": {},
   "outputs": [],
   "source": [
    "data_export = data.copy()"
   ]
  },
  {
   "cell_type": "code",
   "execution_count": 21,
   "id": "9e36df0f",
   "metadata": {},
   "outputs": [],
   "source": [
    "data_export[\"title\"].fillna(\"No-Title\",inplace=True)\n",
    "data_export[\"author\"].fillna(\"Anonymous\",inplace=True)\n",
    "data_export[\"text\"].fillna(\" \",inplace=True)\n",
    "data_export[\"length\"].fillna(0,inplace=True)"
   ]
  },
  {
   "cell_type": "code",
   "execution_count": 22,
   "id": "09d4e7a7",
   "metadata": {},
   "outputs": [
    {
     "data": {
      "text/plain": [
       "id        0\n",
       "title     0\n",
       "author    0\n",
       "text      0\n",
       "label     0\n",
       "length    0\n",
       "dtype: int64"
      ]
     },
     "execution_count": 22,
     "metadata": {},
     "output_type": "execute_result"
    }
   ],
   "source": [
    "data_export.isna().sum()"
   ]
  },
  {
   "cell_type": "code",
   "execution_count": null,
   "id": "0b6a003a",
   "metadata": {},
   "outputs": [],
   "source": [
    "#data_export.to_csv(\"fakenewsDatasetClean.csv\", encoding='utf-8', index=False)"
   ]
  },
  {
   "cell_type": "code",
   "execution_count": null,
   "id": "60f824b7",
   "metadata": {},
   "outputs": [],
   "source": [
    "#data.isna().sum()"
   ]
  },
  {
   "cell_type": "markdown",
   "id": "f116cc14",
   "metadata": {},
   "source": [
    "### Fill all missing data "
   ]
  },
  {
   "cell_type": "markdown",
   "id": "c25e7f13",
   "metadata": {},
   "source": [
    "### data_1 fill na with \" \" "
   ]
  },
  {
   "cell_type": "code",
   "execution_count": 34,
   "id": "0bef11c7",
   "metadata": {},
   "outputs": [],
   "source": [
    "data_1 = data.copy()"
   ]
  },
  {
   "cell_type": "code",
   "execution_count": 31,
   "id": "8f983808",
   "metadata": {},
   "outputs": [],
   "source": [
    "data_1[\"title\"].fillna(\"\",inplace=True)\n",
    "data_1[\"author\"].fillna(\"\",inplace=True)\n",
    "data_1[\"text\"].fillna(\"\",inplace=True)\n",
    "data_1[\"length\"].fillna(0,inplace=True)"
   ]
  },
  {
   "cell_type": "code",
   "execution_count": 32,
   "id": "72f644be",
   "metadata": {},
   "outputs": [
    {
     "data": {
      "text/plain": [
       "id        0\n",
       "title     0\n",
       "author    0\n",
       "text      0\n",
       "label     0\n",
       "length    0\n",
       "dtype: int64"
      ]
     },
     "execution_count": 32,
     "metadata": {},
     "output_type": "execute_result"
    }
   ],
   "source": [
    "data_1.isna().sum()"
   ]
  },
  {
   "cell_type": "code",
   "execution_count": 33,
   "id": "d235bb49",
   "metadata": {},
   "outputs": [
    {
     "data": {
      "text/html": [
       "<div>\n",
       "<style scoped>\n",
       "    .dataframe tbody tr th:only-of-type {\n",
       "        vertical-align: middle;\n",
       "    }\n",
       "\n",
       "    .dataframe tbody tr th {\n",
       "        vertical-align: top;\n",
       "    }\n",
       "\n",
       "    .dataframe thead th {\n",
       "        text-align: right;\n",
       "    }\n",
       "</style>\n",
       "<table border=\"1\" class=\"dataframe\">\n",
       "  <thead>\n",
       "    <tr style=\"text-align: right;\">\n",
       "      <th></th>\n",
       "      <th>id</th>\n",
       "      <th>title</th>\n",
       "      <th>author</th>\n",
       "      <th>text</th>\n",
       "      <th>label</th>\n",
       "      <th>length</th>\n",
       "    </tr>\n",
       "  </thead>\n",
       "  <tbody>\n",
       "    <tr>\n",
       "      <th>25990</th>\n",
       "      <td>25990</td>\n",
       "      <td>Secret Service Shoots Man Near White House - T...</td>\n",
       "      <td>Julie Hirschfeld Davis and Michael S. Schmidt</td>\n",
       "      <td>WASHINGTON  —   A man who approached the White...</td>\n",
       "      <td>1</td>\n",
       "      <td>2367.0</td>\n",
       "    </tr>\n",
       "    <tr>\n",
       "      <th>25991</th>\n",
       "      <td>25991</td>\n",
       "      <td>E3 Hands-On with ’South Park: The Fractured bu...</td>\n",
       "      <td>Lucas Nolan</td>\n",
       "      <td>The title of South Park: The Fractured but Who...</td>\n",
       "      <td>1</td>\n",
       "      <td>3271.0</td>\n",
       "    </tr>\n",
       "    <tr>\n",
       "      <th>25992</th>\n",
       "      <td>25992</td>\n",
       "      <td>Earth To Ammosexuals: NRA Admits No One Is Com...</td>\n",
       "      <td>Natalie Dailey</td>\n",
       "      <td>Earth To Ammosexuals: NRA Admits No One Is Com...</td>\n",
       "      <td>1</td>\n",
       "      <td>2420.0</td>\n",
       "    </tr>\n",
       "    <tr>\n",
       "      <th>25993</th>\n",
       "      <td>25993</td>\n",
       "      <td>Toyota Recalls 1.4 Million Vehicles as 2nd Maj...</td>\n",
       "      <td>Hiroko Tabuchi and Jonathan Soble</td>\n",
       "      <td>Public concern about faulty automobile airbags...</td>\n",
       "      <td>0</td>\n",
       "      <td>5096.0</td>\n",
       "    </tr>\n",
       "    <tr>\n",
       "      <th>25994</th>\n",
       "      <td>25994</td>\n",
       "      <td>Trump on If ’Tapes’ Exist of Comey Conversatio...</td>\n",
       "      <td>Pam Key</td>\n",
       "      <td>Pres. Trump on if “tapes” exist of his convers...</td>\n",
       "      <td>1</td>\n",
       "      <td>1315.0</td>\n",
       "    </tr>\n",
       "    <tr>\n",
       "      <th>25995</th>\n",
       "      <td>25995</td>\n",
       "      <td>The Bangladeshi Traffic Jam That Never Ends - ...</td>\n",
       "      <td>Jody Rosen</td>\n",
       "      <td>Of all the dysfunctions that plague the world’...</td>\n",
       "      <td>0</td>\n",
       "      <td>18376.0</td>\n",
       "    </tr>\n",
       "    <tr>\n",
       "      <th>25996</th>\n",
       "      <td>25996</td>\n",
       "      <td>John Kasich Signs One Abortion Bill in Ohio bu...</td>\n",
       "      <td>Sheryl Gay Stolberg</td>\n",
       "      <td>WASHINGTON  —   Gov. John Kasich of Ohio on Tu...</td>\n",
       "      <td>1</td>\n",
       "      <td>3415.0</td>\n",
       "    </tr>\n",
       "    <tr>\n",
       "      <th>25997</th>\n",
       "      <td>25997</td>\n",
       "      <td>California Today: What, Exactly, Is in Your Su...</td>\n",
       "      <td>Mike McPhate</td>\n",
       "      <td>Good morning. (Want to get California Today by...</td>\n",
       "      <td>0</td>\n",
       "      <td>5682.0</td>\n",
       "    </tr>\n",
       "    <tr>\n",
       "      <th>25998</th>\n",
       "      <td>25998</td>\n",
       "      <td>300 US Marines To Be Deployed To Russian Borde...</td>\n",
       "      <td></td>\n",
       "      <td>« Previous - Next » 300 US Marines To Be Deplo...</td>\n",
       "      <td>1</td>\n",
       "      <td>2634.0</td>\n",
       "    </tr>\n",
       "    <tr>\n",
       "      <th>25999</th>\n",
       "      <td>25999</td>\n",
       "      <td>Awkward Sex, Onscreen and Off - The New York T...</td>\n",
       "      <td>Teddy Wayne</td>\n",
       "      <td>Perhaps you’ve seen the new TV series whose pi...</td>\n",
       "      <td>0</td>\n",
       "      <td>8500.0</td>\n",
       "    </tr>\n",
       "  </tbody>\n",
       "</table>\n",
       "</div>"
      ],
      "text/plain": [
       "          id                                              title  \\\n",
       "25990  25990  Secret Service Shoots Man Near White House - T...   \n",
       "25991  25991  E3 Hands-On with ’South Park: The Fractured bu...   \n",
       "25992  25992  Earth To Ammosexuals: NRA Admits No One Is Com...   \n",
       "25993  25993  Toyota Recalls 1.4 Million Vehicles as 2nd Maj...   \n",
       "25994  25994  Trump on If ’Tapes’ Exist of Comey Conversatio...   \n",
       "25995  25995  The Bangladeshi Traffic Jam That Never Ends - ...   \n",
       "25996  25996  John Kasich Signs One Abortion Bill in Ohio bu...   \n",
       "25997  25997  California Today: What, Exactly, Is in Your Su...   \n",
       "25998  25998  300 US Marines To Be Deployed To Russian Borde...   \n",
       "25999  25999  Awkward Sex, Onscreen and Off - The New York T...   \n",
       "\n",
       "                                              author  \\\n",
       "25990  Julie Hirschfeld Davis and Michael S. Schmidt   \n",
       "25991                                    Lucas Nolan   \n",
       "25992                                 Natalie Dailey   \n",
       "25993              Hiroko Tabuchi and Jonathan Soble   \n",
       "25994                                        Pam Key   \n",
       "25995                                     Jody Rosen   \n",
       "25996                            Sheryl Gay Stolberg   \n",
       "25997                                   Mike McPhate   \n",
       "25998                                                  \n",
       "25999                                    Teddy Wayne   \n",
       "\n",
       "                                                    text  label   length  \n",
       "25990  WASHINGTON  —   A man who approached the White...      1   2367.0  \n",
       "25991  The title of South Park: The Fractured but Who...      1   3271.0  \n",
       "25992  Earth To Ammosexuals: NRA Admits No One Is Com...      1   2420.0  \n",
       "25993  Public concern about faulty automobile airbags...      0   5096.0  \n",
       "25994  Pres. Trump on if “tapes” exist of his convers...      1   1315.0  \n",
       "25995  Of all the dysfunctions that plague the world’...      0  18376.0  \n",
       "25996  WASHINGTON  —   Gov. John Kasich of Ohio on Tu...      1   3415.0  \n",
       "25997  Good morning. (Want to get California Today by...      0   5682.0  \n",
       "25998  « Previous - Next » 300 US Marines To Be Deplo...      1   2634.0  \n",
       "25999  Perhaps you’ve seen the new TV series whose pi...      0   8500.0  "
      ]
     },
     "execution_count": 33,
     "metadata": {},
     "output_type": "execute_result"
    }
   ],
   "source": [
    "data_1.tail(10)"
   ]
  },
  {
   "cell_type": "markdown",
   "id": "1668cc28",
   "metadata": {},
   "source": [
    "## Word Cloud"
   ]
  },
  {
   "cell_type": "code",
   "execution_count": null,
   "id": "1085ce90",
   "metadata": {},
   "outputs": [],
   "source": [
    "from wordcloud import WordCloud\n",
    "from collections import Counter\n",
    "import matplotlib.pyplot as plt"
   ]
  },
  {
   "cell_type": "code",
   "execution_count": null,
   "id": "da6ab11d",
   "metadata": {},
   "outputs": [],
   "source": [
    "type(data[\"title\"][0])"
   ]
  },
  {
   "cell_type": "code",
   "execution_count": null,
   "id": "cbabc99a",
   "metadata": {},
   "outputs": [],
   "source": [
    "data[\"title\"][0]"
   ]
  },
  {
   "cell_type": "code",
   "execution_count": null,
   "id": "152e2918",
   "metadata": {},
   "outputs": [],
   "source": [
    "datawc = data.copy()"
   ]
  },
  {
   "cell_type": "code",
   "execution_count": null,
   "id": "de88823b",
   "metadata": {},
   "outputs": [],
   "source": [
    "datawc = datawc.drop([\"length\"],axis=1)"
   ]
  },
  {
   "cell_type": "code",
   "execution_count": null,
   "id": "02254f82",
   "metadata": {},
   "outputs": [],
   "source": [
    "datawc.isna().sum()"
   ]
  },
  {
   "cell_type": "code",
   "execution_count": null,
   "id": "cec88ddc",
   "metadata": {},
   "outputs": [],
   "source": [
    "datawc.head()"
   ]
  },
  {
   "cell_type": "code",
   "execution_count": null,
   "id": "d16b992e",
   "metadata": {},
   "outputs": [],
   "source": [
    "fakewc = datawc[datawc[\"label\"].isin([1])]"
   ]
  },
  {
   "cell_type": "code",
   "execution_count": null,
   "id": "c79cc0a7",
   "metadata": {},
   "outputs": [],
   "source": [
    "fakewc.isna().sum()"
   ]
  },
  {
   "cell_type": "code",
   "execution_count": null,
   "id": "6cd7be1e",
   "metadata": {},
   "outputs": [],
   "source": [
    "fakewc.head()"
   ]
  },
  {
   "cell_type": "code",
   "execution_count": null,
   "id": "331244d7",
   "metadata": {},
   "outputs": [],
   "source": [
    "fakewc[\"title\"].fillna(\"None-Title\",inplace=True)"
   ]
  },
  {
   "cell_type": "code",
   "execution_count": null,
   "id": "38f0adde",
   "metadata": {},
   "outputs": [],
   "source": [
    "fakewc[\"author\"].fillna(\"Anonymous\",inplace=True)"
   ]
  },
  {
   "cell_type": "code",
   "execution_count": null,
   "id": "8537e967",
   "metadata": {},
   "outputs": [],
   "source": [
    "fakewc[\"text\"].fillna(0,inplace=True)"
   ]
  },
  {
   "cell_type": "code",
   "execution_count": null,
   "id": "4508569d",
   "metadata": {},
   "outputs": [],
   "source": [
    "fakewc.isna().sum()"
   ]
  },
  {
   "cell_type": "code",
   "execution_count": null,
   "id": "798478b5",
   "metadata": {},
   "outputs": [],
   "source": [
    "def tokenize(text):\n",
    "    word = re.findall(r'[\\w]+', str(text))\n",
    "    return word"
   ]
  },
  {
   "cell_type": "code",
   "execution_count": null,
   "id": "08660e70",
   "metadata": {},
   "outputs": [],
   "source": [
    "def remove_stop(tokens):\n",
    "    return [str(t) for t in tokens if t.lower() not in stop_words]"
   ]
  },
  {
   "cell_type": "code",
   "execution_count": null,
   "id": "06b8520e",
   "metadata": {},
   "outputs": [],
   "source": [
    "def lowertext(tokens):\n",
    "    return [str(t.lower() ) for t in tokens]"
   ]
  },
  {
   "cell_type": "markdown",
   "id": "88d83fe9",
   "metadata": {},
   "source": [
    "### Remove stop words and normalization"
   ]
  },
  {
   "cell_type": "code",
   "execution_count": 45,
   "id": "735eebf4",
   "metadata": {},
   "outputs": [],
   "source": [
    "from nltk.corpus import stopwords\n",
    "stop_words=set(stopwords.words(\"english\"))\n",
    "import re\n",
    "import numpy as np"
   ]
  },
  {
   "cell_type": "code",
   "execution_count": null,
   "id": "6f7774e2",
   "metadata": {},
   "outputs": [],
   "source": [
    "fakewc[\"tokens_title\"] = fakewc[\"title\"].apply(tokenize)"
   ]
  },
  {
   "cell_type": "code",
   "execution_count": null,
   "id": "f62a1b6f",
   "metadata": {},
   "outputs": [],
   "source": [
    "fakewc[\"tokens_title\"] = fakewc[\"tokens_title\"].apply(remove_stop)"
   ]
  },
  {
   "cell_type": "code",
   "execution_count": null,
   "id": "a31a826c",
   "metadata": {},
   "outputs": [],
   "source": [
    "fakewc[\"tokens_title\"] = fakewc[\"tokens_title\"].apply(lowertext)"
   ]
  },
  {
   "cell_type": "code",
   "execution_count": null,
   "id": "88e4457a",
   "metadata": {},
   "outputs": [],
   "source": [
    "fakewc[\"tokens_title\"]"
   ]
  },
  {
   "cell_type": "code",
   "execution_count": null,
   "id": "f7e35005",
   "metadata": {},
   "outputs": [],
   "source": [
    "fakewc.head()"
   ]
  },
  {
   "cell_type": "markdown",
   "id": "1fa1636d",
   "metadata": {},
   "source": [
    "## N-gram"
   ]
  },
  {
   "cell_type": "code",
   "execution_count": null,
   "id": "a80eda6f",
   "metadata": {},
   "outputs": [],
   "source": [
    "def ngrams(tokens, n=2, sep=' ', stopwords=set()):\n",
    "    return [sep.join(ngram) for ngram in zip(*[tokens[i:] for i in range(n)])\n",
    "           if len([t for t in ngram if t in stopwords])==0]"
   ]
  },
  {
   "cell_type": "code",
   "execution_count": null,
   "id": "1f905f53",
   "metadata": {},
   "outputs": [],
   "source": [
    "fakewc[\"bigram_title\"] = fakewc[\"tokens_title\"].apply(ngrams,stopwords=stop_words)"
   ]
  },
  {
   "cell_type": "code",
   "execution_count": null,
   "id": "10b8f711",
   "metadata": {},
   "outputs": [],
   "source": [
    "bgram = fakewc[\"bigram_title\"]\n",
    "bgram"
   ]
  },
  {
   "cell_type": "code",
   "execution_count": null,
   "id": "57546937",
   "metadata": {},
   "outputs": [],
   "source": [
    "wctokens = fakewc[\"tokens_title\"].explode().values\n",
    "wctokens"
   ]
  },
  {
   "cell_type": "code",
   "execution_count": null,
   "id": "13969830",
   "metadata": {},
   "outputs": [],
   "source": [
    "wcbigrams = fakewc[\"bigram_title\"].explode().values\n",
    "wcbigrams"
   ]
  },
  {
   "cell_type": "code",
   "execution_count": null,
   "id": "d59b6811",
   "metadata": {},
   "outputs": [],
   "source": [
    "count_tokens_title = Counter(wctokens)"
   ]
  },
  {
   "cell_type": "code",
   "execution_count": null,
   "id": "63aad922",
   "metadata": {},
   "outputs": [],
   "source": [
    "count_tokens_title.most_common(10)"
   ]
  },
  {
   "cell_type": "code",
   "execution_count": null,
   "id": "46262e48",
   "metadata": {},
   "outputs": [],
   "source": [
    "count_tokens_title[np.nan]"
   ]
  },
  {
   "cell_type": "code",
   "execution_count": null,
   "id": "fe1c080a",
   "metadata": {},
   "outputs": [],
   "source": [
    "del count_tokens_title[np.nan]"
   ]
  },
  {
   "cell_type": "code",
   "execution_count": null,
   "id": "67e83f2f",
   "metadata": {},
   "outputs": [],
   "source": [
    "wctokens"
   ]
  },
  {
   "cell_type": "code",
   "execution_count": null,
   "id": "49baf2a0",
   "metadata": {},
   "outputs": [],
   "source": [
    "count_tokens_title.most_common(10)"
   ]
  },
  {
   "cell_type": "code",
   "execution_count": null,
   "id": "e2dde352",
   "metadata": {},
   "outputs": [],
   "source": [
    "countbg_title = Counter(wcbigrams)"
   ]
  },
  {
   "cell_type": "code",
   "execution_count": null,
   "id": "9bfb9a03",
   "metadata": {},
   "outputs": [],
   "source": [
    "countbg_title.most_common(10)"
   ]
  },
  {
   "cell_type": "code",
   "execution_count": null,
   "id": "afc8469b",
   "metadata": {},
   "outputs": [],
   "source": [
    "del countbg_title[np.nan]"
   ]
  },
  {
   "cell_type": "code",
   "execution_count": null,
   "id": "71425aee",
   "metadata": {},
   "outputs": [],
   "source": [
    "countbg_title.most_common(10)"
   ]
  },
  {
   "cell_type": "code",
   "execution_count": null,
   "id": "f28f509f",
   "metadata": {},
   "outputs": [],
   "source": [
    "wc = WordCloud(width = 800, height = 400,\n",
    "              background_color = \"black\", colormap=\"Paired\",\n",
    "              max_font_size = 150, max_words = 200)"
   ]
  },
  {
   "cell_type": "markdown",
   "id": "a6f5cac2",
   "metadata": {},
   "source": [
    "## Word Cloud with NaN title"
   ]
  },
  {
   "cell_type": "code",
   "execution_count": null,
   "id": "53d71739",
   "metadata": {
    "scrolled": false
   },
   "outputs": [],
   "source": [
    "wc.generate_from_frequencies(countbg_title)\n",
    "plt.figure(dpi=150)\n",
    "plt.imshow(wc, interpolation='bilinear')\n",
    "plt.axis('off')"
   ]
  },
  {
   "cell_type": "markdown",
   "id": "2a2ae3e7",
   "metadata": {},
   "source": [
    "### Data_2 fill author with Anonymous, title fill with None-title and text fill with \" \""
   ]
  },
  {
   "cell_type": "code",
   "execution_count": 25,
   "id": "686b6064",
   "metadata": {},
   "outputs": [],
   "source": [
    "data_2 = data.copy()"
   ]
  },
  {
   "cell_type": "code",
   "execution_count": 26,
   "id": "0072aaa7",
   "metadata": {},
   "outputs": [
    {
     "data": {
      "text/plain": [
       "id           0\n",
       "title      630\n",
       "author    2419\n",
       "text        46\n",
       "label        0\n",
       "length      46\n",
       "dtype: int64"
      ]
     },
     "execution_count": 26,
     "metadata": {},
     "output_type": "execute_result"
    }
   ],
   "source": [
    "data_2.isna().sum()"
   ]
  },
  {
   "cell_type": "code",
   "execution_count": 27,
   "id": "acb8edce",
   "metadata": {},
   "outputs": [],
   "source": [
    "data_2[\"title\"].fillna(\"None-title\",inplace=True)\n",
    "data_2[\"author\"].fillna(\"Anonymous\",inplace=True)\n",
    "data_2[\"text\"].fillna(\" \",inplace=True)\n",
    "data_2[\"length\"].fillna(0,inplace=True)"
   ]
  },
  {
   "cell_type": "code",
   "execution_count": 28,
   "id": "aa98ba28",
   "metadata": {},
   "outputs": [
    {
     "data": {
      "text/html": [
       "<div>\n",
       "<style scoped>\n",
       "    .dataframe tbody tr th:only-of-type {\n",
       "        vertical-align: middle;\n",
       "    }\n",
       "\n",
       "    .dataframe tbody tr th {\n",
       "        vertical-align: top;\n",
       "    }\n",
       "\n",
       "    .dataframe thead th {\n",
       "        text-align: right;\n",
       "    }\n",
       "</style>\n",
       "<table border=\"1\" class=\"dataframe\">\n",
       "  <thead>\n",
       "    <tr style=\"text-align: right;\">\n",
       "      <th></th>\n",
       "      <th>id</th>\n",
       "      <th>title</th>\n",
       "      <th>author</th>\n",
       "      <th>text</th>\n",
       "      <th>label</th>\n",
       "      <th>length</th>\n",
       "    </tr>\n",
       "  </thead>\n",
       "  <tbody>\n",
       "    <tr>\n",
       "      <th>6</th>\n",
       "      <td>6</td>\n",
       "      <td>Life: Life Of Luxury: Elton John’s 6 Favorite ...</td>\n",
       "      <td>Anonymous</td>\n",
       "      <td>Ever wonder how Britain’s most iconic pop pian...</td>\n",
       "      <td>1</td>\n",
       "      <td>2729.0</td>\n",
       "    </tr>\n",
       "    <tr>\n",
       "      <th>8</th>\n",
       "      <td>8</td>\n",
       "      <td>Excerpts From a Draft Script for Donald Trump’...</td>\n",
       "      <td>Anonymous</td>\n",
       "      <td>Donald J. Trump is scheduled to make a highly ...</td>\n",
       "      <td>0</td>\n",
       "      <td>8177.0</td>\n",
       "    </tr>\n",
       "    <tr>\n",
       "      <th>20</th>\n",
       "      <td>20</td>\n",
       "      <td>News: Hope For The GOP: A Nude Paul Ryan Has J...</td>\n",
       "      <td>Anonymous</td>\n",
       "      <td>Email \\nSince Donald Trump entered the electio...</td>\n",
       "      <td>1</td>\n",
       "      <td>2231.0</td>\n",
       "    </tr>\n",
       "    <tr>\n",
       "      <th>23</th>\n",
       "      <td>23</td>\n",
       "      <td>Massachusetts Cop’s Wife Busted for Pinning Fa...</td>\n",
       "      <td>Anonymous</td>\n",
       "      <td>Massachusetts Cop’s Wife Busted for Pinning Fa...</td>\n",
       "      <td>1</td>\n",
       "      <td>2801.0</td>\n",
       "    </tr>\n",
       "    <tr>\n",
       "      <th>31</th>\n",
       "      <td>31</td>\n",
       "      <td>Israel is Becoming Pivotal to China’s Mid-East...</td>\n",
       "      <td>Anonymous</td>\n",
       "      <td>Country: Israel While China is silently playin...</td>\n",
       "      <td>1</td>\n",
       "      <td>7050.0</td>\n",
       "    </tr>\n",
       "    <tr>\n",
       "      <th>...</th>\n",
       "      <td>...</td>\n",
       "      <td>...</td>\n",
       "      <td>...</td>\n",
       "      <td>...</td>\n",
       "      <td>...</td>\n",
       "      <td>...</td>\n",
       "    </tr>\n",
       "    <tr>\n",
       "      <th>25952</th>\n",
       "      <td>25952</td>\n",
       "      <td>Flotilla of Russian warships sails into the Me...</td>\n",
       "      <td>Anonymous</td>\n",
       "      <td>09:01 EST, 12 November 2016 | Updated: 18:54 E...</td>\n",
       "      <td>1</td>\n",
       "      <td>4042.0</td>\n",
       "    </tr>\n",
       "    <tr>\n",
       "      <th>25963</th>\n",
       "      <td>25963</td>\n",
       "      <td>TRUMP RECEIVED BY MASSIVE CROWD IN ALBUQUERQUE...</td>\n",
       "      <td>Anonymous</td>\n",
       "      <td>Home / News / TRUMP RECEIVED BY MASSIVE CROWD ...</td>\n",
       "      <td>1</td>\n",
       "      <td>1251.0</td>\n",
       "    </tr>\n",
       "    <tr>\n",
       "      <th>25970</th>\n",
       "      <td>25970</td>\n",
       "      <td>Reinventing Democracy in America Starts by Vot...</td>\n",
       "      <td>Anonymous</td>\n",
       "      <td>Reinventing Democracy in America Starts by Vot...</td>\n",
       "      <td>0</td>\n",
       "      <td>7709.0</td>\n",
       "    </tr>\n",
       "    <tr>\n",
       "      <th>25972</th>\n",
       "      <td>25972</td>\n",
       "      <td>The Postmodern Stalinism of the Western Media ...</td>\n",
       "      <td>Anonymous</td>\n",
       "      <td>Originally appeared at Chronicles Magazine \\nI...</td>\n",
       "      <td>0</td>\n",
       "      <td>4154.0</td>\n",
       "    </tr>\n",
       "    <tr>\n",
       "      <th>25998</th>\n",
       "      <td>25998</td>\n",
       "      <td>300 US Marines To Be Deployed To Russian Borde...</td>\n",
       "      <td>Anonymous</td>\n",
       "      <td>« Previous - Next » 300 US Marines To Be Deplo...</td>\n",
       "      <td>1</td>\n",
       "      <td>2634.0</td>\n",
       "    </tr>\n",
       "  </tbody>\n",
       "</table>\n",
       "<p>2466 rows × 6 columns</p>\n",
       "</div>"
      ],
      "text/plain": [
       "          id                                              title     author  \\\n",
       "6          6  Life: Life Of Luxury: Elton John’s 6 Favorite ...  Anonymous   \n",
       "8          8  Excerpts From a Draft Script for Donald Trump’...  Anonymous   \n",
       "20        20  News: Hope For The GOP: A Nude Paul Ryan Has J...  Anonymous   \n",
       "23        23  Massachusetts Cop’s Wife Busted for Pinning Fa...  Anonymous   \n",
       "31        31  Israel is Becoming Pivotal to China’s Mid-East...  Anonymous   \n",
       "...      ...                                                ...        ...   \n",
       "25952  25952  Flotilla of Russian warships sails into the Me...  Anonymous   \n",
       "25963  25963  TRUMP RECEIVED BY MASSIVE CROWD IN ALBUQUERQUE...  Anonymous   \n",
       "25970  25970  Reinventing Democracy in America Starts by Vot...  Anonymous   \n",
       "25972  25972  The Postmodern Stalinism of the Western Media ...  Anonymous   \n",
       "25998  25998  300 US Marines To Be Deployed To Russian Borde...  Anonymous   \n",
       "\n",
       "                                                    text  label  length  \n",
       "6      Ever wonder how Britain’s most iconic pop pian...      1  2729.0  \n",
       "8      Donald J. Trump is scheduled to make a highly ...      0  8177.0  \n",
       "20     Email \\nSince Donald Trump entered the electio...      1  2231.0  \n",
       "23     Massachusetts Cop’s Wife Busted for Pinning Fa...      1  2801.0  \n",
       "31     Country: Israel While China is silently playin...      1  7050.0  \n",
       "...                                                  ...    ...     ...  \n",
       "25952  09:01 EST, 12 November 2016 | Updated: 18:54 E...      1  4042.0  \n",
       "25963  Home / News / TRUMP RECEIVED BY MASSIVE CROWD ...      1  1251.0  \n",
       "25970  Reinventing Democracy in America Starts by Vot...      0  7709.0  \n",
       "25972  Originally appeared at Chronicles Magazine \\nI...      0  4154.0  \n",
       "25998  « Previous - Next » 300 US Marines To Be Deplo...      1  2634.0  \n",
       "\n",
       "[2466 rows x 6 columns]"
      ]
     },
     "execution_count": 28,
     "metadata": {},
     "output_type": "execute_result"
    }
   ],
   "source": [
    "data_2[data_2[\"author\"].isin([\"Anonymous\"])]"
   ]
  },
  {
   "cell_type": "code",
   "execution_count": 29,
   "id": "8396d5bd",
   "metadata": {},
   "outputs": [
    {
     "data": {
      "text/html": [
       "<div>\n",
       "<style scoped>\n",
       "    .dataframe tbody tr th:only-of-type {\n",
       "        vertical-align: middle;\n",
       "    }\n",
       "\n",
       "    .dataframe tbody tr th {\n",
       "        vertical-align: top;\n",
       "    }\n",
       "\n",
       "    .dataframe thead th {\n",
       "        text-align: right;\n",
       "    }\n",
       "</style>\n",
       "<table border=\"1\" class=\"dataframe\">\n",
       "  <thead>\n",
       "    <tr style=\"text-align: right;\">\n",
       "      <th></th>\n",
       "      <th>id</th>\n",
       "      <th>title</th>\n",
       "      <th>author</th>\n",
       "      <th>text</th>\n",
       "      <th>label</th>\n",
       "      <th>length</th>\n",
       "    </tr>\n",
       "  </thead>\n",
       "  <tbody>\n",
       "    <tr>\n",
       "      <th>53</th>\n",
       "      <td>53</td>\n",
       "      <td>None-title</td>\n",
       "      <td>Dairy✓ᵀᴿᵁᴹᴾ</td>\n",
       "      <td>Sounds like he has our president pegged. What ...</td>\n",
       "      <td>1</td>\n",
       "      <td>679.0</td>\n",
       "    </tr>\n",
       "    <tr>\n",
       "      <th>120</th>\n",
       "      <td>120</td>\n",
       "      <td>None-title</td>\n",
       "      <td>Anonymous</td>\n",
       "      <td>Same people all the time , i dont know how you...</td>\n",
       "      <td>1</td>\n",
       "      <td>135.0</td>\n",
       "    </tr>\n",
       "    <tr>\n",
       "      <th>124</th>\n",
       "      <td>124</td>\n",
       "      <td>None-title</td>\n",
       "      <td>SeekSearchDestory</td>\n",
       "      <td>You know, outside of any morality arguments, i...</td>\n",
       "      <td>1</td>\n",
       "      <td>533.0</td>\n",
       "    </tr>\n",
       "    <tr>\n",
       "      <th>140</th>\n",
       "      <td>140</td>\n",
       "      <td>None-title</td>\n",
       "      <td>Anonymous</td>\n",
       "      <td>There is a lot more than meets the eye to this...</td>\n",
       "      <td>1</td>\n",
       "      <td>736.0</td>\n",
       "    </tr>\n",
       "    <tr>\n",
       "      <th>196</th>\n",
       "      <td>196</td>\n",
       "      <td>None-title</td>\n",
       "      <td>Raffie</td>\n",
       "      <td>They got the heater turned up on high.</td>\n",
       "      <td>1</td>\n",
       "      <td>38.0</td>\n",
       "    </tr>\n",
       "    <tr>\n",
       "      <th>...</th>\n",
       "      <td>...</td>\n",
       "      <td>...</td>\n",
       "      <td>...</td>\n",
       "      <td>...</td>\n",
       "      <td>...</td>\n",
       "      <td>...</td>\n",
       "    </tr>\n",
       "    <tr>\n",
       "      <th>25645</th>\n",
       "      <td>25645</td>\n",
       "      <td>None-title</td>\n",
       "      <td>fundamentaly flawed humanity</td>\n",
       "      <td>anyone heard of the protective insert for wome...</td>\n",
       "      <td>1</td>\n",
       "      <td>225.0</td>\n",
       "    </tr>\n",
       "    <tr>\n",
       "      <th>25724</th>\n",
       "      <td>25724</td>\n",
       "      <td>None-title</td>\n",
       "      <td>Snowonweb</td>\n",
       "      <td>great article</td>\n",
       "      <td>1</td>\n",
       "      <td>13.0</td>\n",
       "    </tr>\n",
       "    <tr>\n",
       "      <th>25755</th>\n",
       "      <td>25755</td>\n",
       "      <td>None-title</td>\n",
       "      <td>John Doyle</td>\n",
       "      <td>Obama himself denied any knowledge of the serv...</td>\n",
       "      <td>1</td>\n",
       "      <td>176.0</td>\n",
       "    </tr>\n",
       "    <tr>\n",
       "      <th>25763</th>\n",
       "      <td>25763</td>\n",
       "      <td>None-title</td>\n",
       "      <td>Barry Branscum</td>\n",
       "      <td>Right. Well that clears that up.</td>\n",
       "      <td>1</td>\n",
       "      <td>32.0</td>\n",
       "    </tr>\n",
       "    <tr>\n",
       "      <th>25866</th>\n",
       "      <td>25866</td>\n",
       "      <td>None-title</td>\n",
       "      <td>Anonymous</td>\n",
       "      <td>Its true you know the CATHOLICS ARE BEHIND EVE...</td>\n",
       "      <td>1</td>\n",
       "      <td>903.0</td>\n",
       "    </tr>\n",
       "  </tbody>\n",
       "</table>\n",
       "<p>630 rows × 6 columns</p>\n",
       "</div>"
      ],
      "text/plain": [
       "          id       title                        author  \\\n",
       "53        53  None-title                   Dairy✓ᵀᴿᵁᴹᴾ   \n",
       "120      120  None-title                     Anonymous   \n",
       "124      124  None-title             SeekSearchDestory   \n",
       "140      140  None-title                     Anonymous   \n",
       "196      196  None-title                        Raffie   \n",
       "...      ...         ...                           ...   \n",
       "25645  25645  None-title  fundamentaly flawed humanity   \n",
       "25724  25724  None-title                     Snowonweb   \n",
       "25755  25755  None-title                    John Doyle   \n",
       "25763  25763  None-title                Barry Branscum   \n",
       "25866  25866  None-title                     Anonymous   \n",
       "\n",
       "                                                    text  label  length  \n",
       "53     Sounds like he has our president pegged. What ...      1   679.0  \n",
       "120    Same people all the time , i dont know how you...      1   135.0  \n",
       "124    You know, outside of any morality arguments, i...      1   533.0  \n",
       "140    There is a lot more than meets the eye to this...      1   736.0  \n",
       "196               They got the heater turned up on high.      1    38.0  \n",
       "...                                                  ...    ...     ...  \n",
       "25645  anyone heard of the protective insert for wome...      1   225.0  \n",
       "25724                                      great article      1    13.0  \n",
       "25755  Obama himself denied any knowledge of the serv...      1   176.0  \n",
       "25763                   Right. Well that clears that up.      1    32.0  \n",
       "25866  Its true you know the CATHOLICS ARE BEHIND EVE...      1   903.0  \n",
       "\n",
       "[630 rows x 6 columns]"
      ]
     },
     "execution_count": 29,
     "metadata": {},
     "output_type": "execute_result"
    }
   ],
   "source": [
    "data_2[data_2[\"title\"].isin([\"None-title\"])]"
   ]
  },
  {
   "cell_type": "code",
   "execution_count": 30,
   "id": "b17b6baf",
   "metadata": {},
   "outputs": [
    {
     "data": {
      "text/plain": [
       "id        0\n",
       "title     0\n",
       "author    0\n",
       "text      0\n",
       "label     0\n",
       "length    0\n",
       "dtype: int64"
      ]
     },
     "execution_count": 30,
     "metadata": {},
     "output_type": "execute_result"
    }
   ],
   "source": [
    "data_2.isna().sum()"
   ]
  },
  {
   "cell_type": "markdown",
   "id": "f2fe027a",
   "metadata": {},
   "source": [
    "####################"
   ]
  },
  {
   "cell_type": "markdown",
   "id": "947b30da",
   "metadata": {},
   "source": [
    "### Prepare Data [Data1 : author, title, text fillna with \" \"]"
   ]
  },
  {
   "cell_type": "code",
   "execution_count": 31,
   "id": "38b99c1b",
   "metadata": {},
   "outputs": [
    {
     "ename": "NameError",
     "evalue": "name 'data_1' is not defined",
     "output_type": "error",
     "traceback": [
      "\u001b[1;31m---------------------------------------------------------------------------\u001b[0m",
      "\u001b[1;31mNameError\u001b[0m                                 Traceback (most recent call last)",
      "\u001b[1;32m~\\AppData\\Local\\Temp/ipykernel_28416/6021785.py\u001b[0m in \u001b[0;36m<module>\u001b[1;34m\u001b[0m\n\u001b[1;32m----> 1\u001b[1;33m \u001b[0mdata_1\u001b[0m\u001b[1;33m[\u001b[0m\u001b[1;34m'text_corpus'\u001b[0m\u001b[1;33m]\u001b[0m \u001b[1;33m=\u001b[0m \u001b[0mdata_1\u001b[0m\u001b[1;33m[\u001b[0m\u001b[1;34m'author'\u001b[0m\u001b[1;33m]\u001b[0m \u001b[1;33m+\u001b[0m\u001b[1;34m' '\u001b[0m\u001b[1;33m+\u001b[0m \u001b[0mdata_1\u001b[0m\u001b[1;33m[\u001b[0m\u001b[1;34m'title'\u001b[0m\u001b[1;33m]\u001b[0m \u001b[1;33m+\u001b[0m \u001b[1;34m' '\u001b[0m \u001b[1;33m+\u001b[0m \u001b[0mdata_1\u001b[0m\u001b[1;33m[\u001b[0m\u001b[1;34m'text'\u001b[0m\u001b[1;33m]\u001b[0m\u001b[1;33m\u001b[0m\u001b[1;33m\u001b[0m\u001b[0m\n\u001b[0m",
      "\u001b[1;31mNameError\u001b[0m: name 'data_1' is not defined"
     ]
    }
   ],
   "source": [
    "data_1['text_corpus'] = data_1['author'] +' '+ data_1['title'] + ' ' + data_1['text']"
   ]
  },
  {
   "cell_type": "code",
   "execution_count": 32,
   "id": "b3bf6167",
   "metadata": {},
   "outputs": [],
   "source": [
    "X = data.drop(columns=\"label\", axis=1) \n",
    "Y = data[\"label\"]"
   ]
  },
  {
   "cell_type": "markdown",
   "id": "c56530a6",
   "metadata": {},
   "source": [
    "### Prepare Data [Data2 :\n",
    "### author --> (fillna with Anonymous) \n",
    "### title --> (fillna with Unknow)  \n",
    "### text --> (fillna with None-Title)]"
   ]
  },
  {
   "cell_type": "code",
   "execution_count": 33,
   "id": "a206598d",
   "metadata": {},
   "outputs": [],
   "source": [
    "data_2[\"text_corpus\"] = data_2[\"author\"] + \" \" + data_2[\"title\"] + \" \" + data_2[\"text\"]"
   ]
  },
  {
   "cell_type": "code",
   "execution_count": 34,
   "id": "96c455a1",
   "metadata": {},
   "outputs": [],
   "source": [
    "X_2 = data_2.drop(columns=\"label\",axis=1)\n",
    "Y_2 = data_2[\"label\"]"
   ]
  },
  {
   "cell_type": "markdown",
   "id": "cadb7d08",
   "metadata": {},
   "source": [
    "### Prepare Data3 : Author fill with --> Anonymous , Title fill with --> None-title"
   ]
  },
  {
   "cell_type": "code",
   "execution_count": 36,
   "id": "49b01409",
   "metadata": {},
   "outputs": [],
   "source": [
    "data_3 = data_2.copy()"
   ]
  },
  {
   "cell_type": "code",
   "execution_count": 37,
   "id": "f30534d0",
   "metadata": {},
   "outputs": [],
   "source": [
    "data_3.drop(columns=[\"text_corpus\"],inplace=True)"
   ]
  },
  {
   "cell_type": "code",
   "execution_count": 38,
   "id": "1b1b68ed",
   "metadata": {},
   "outputs": [],
   "source": [
    "data_3[\"text_corpus\"] = data_3[\"author\"] + \" \" + data_3[\"title\"]"
   ]
  },
  {
   "cell_type": "markdown",
   "id": "b45c6598",
   "metadata": {},
   "source": [
    "## Test clean text"
   ]
  },
  {
   "cell_type": "code",
   "execution_count": 52,
   "id": "8507e19d",
   "metadata": {},
   "outputs": [
    {
     "data": {
      "text/plain": [
       "'Darrell Lucus House Dem Aide: We Didn’t Even See Comey’s Letter Until Jason Chaffetz Tweeted It House Dem Aide: We Didn’t Even See Comey’s Letter Until Jason Chaffetz Tweeted It By Darrell Lucus on October 30, 2016 Subscribe Jason Chaffetz on the stump in American Fork, Utah ( image courtesy Michael Jolley, available under a Creative Commons-BY license) \\nWith apologies to Keith Olbermann, there is no doubt who the Worst Person in The World is this week–FBI Director James Comey. But according to a House Democratic aide, it looks like we also know who the second-worst person is as well. It turns out that when Comey sent his now-infamous letter announcing that the FBI was looking into emails that may be related to Hillary Clinton’s email server, the ranking Democrats on the relevant committees didn’t hear about it from Comey. They found out via a tweet from one of the Republican committee chairmen. \\nAs we now know, Comey notified the Republican chairmen and Democratic ranking members of the House Intelligence, Judiciary, and Oversight committees that his agency was reviewing emails it had recently discovered in order to see if they contained classified information. Not long after this letter went out, Oversight Committee Chairman Jason Chaffetz set the political world ablaze with this tweet. FBI Dir just informed me, \"The FBI has learned of the existence of emails that appear to be pertinent to the investigation.\" Case reopened \\n— Jason Chaffetz (@jasoninthehouse) October 28, 2016 \\nOf course, we now know that this was not the case . Comey was actually saying that it was reviewing the emails in light of “an unrelated case”–which we now know to be Anthony Weiner’s sexting with a teenager. But apparently such little things as facts didn’t matter to Chaffetz. The Utah Republican had already vowed to initiate a raft of investigations if Hillary wins–at least two years’ worth, and possibly an entire term’s worth of them. Apparently Chaffetz thought the FBI was already doing his work for him–resulting in a tweet that briefly roiled the nation before cooler heads realized it was a dud. \\nBut according to a senior House Democratic aide, misreading that letter may have been the least of Chaffetz’ sins. That aide told Shareblue that his boss and other Democrats didn’t even know about Comey’s letter at the time–and only found out when they checked Twitter. “Democratic Ranking Members on the relevant committees didn’t receive Comey’s letter until after the Republican Chairmen. In fact, the Democratic Ranking Members didn’ receive it until after the Chairman of the Oversight and Government Reform Committee, Jason Chaffetz, tweeted it out and made it public.” \\nSo let’s see if we’ve got this right. The FBI director tells Chaffetz and other GOP committee chairmen about a major development in a potentially politically explosive investigation, and neither Chaffetz nor his other colleagues had the courtesy to let their Democratic counterparts know about it. Instead, according to this aide, he made them find out about it on Twitter. \\nThere has already been talk on Daily Kos that Comey himself provided advance notice of this letter to Chaffetz and other Republicans, giving them time to turn on the spin machine. That may make for good theater, but there is nothing so far that even suggests this is the case. After all, there is nothing so far that suggests that Comey was anything other than grossly incompetent and tone-deaf. \\nWhat it does suggest, however, is that Chaffetz is acting in a way that makes Dan Burton and Darrell Issa look like models of responsibility and bipartisanship. He didn’t even have the decency to notify ranking member Elijah Cummings about something this explosive. If that doesn’t trample on basic standards of fairness, I don’t know what does. \\nGranted, it’s not likely that Chaffetz will have to answer for this. He sits in a ridiculously Republican district anchored in Provo and Orem; it has a Cook Partisan Voting Index of R+25, and gave Mitt Romney a punishing 78 percent of the vote in 2012. Moreover, the Republican House leadership has given its full support to Chaffetz’ planned fishing expedition. But that doesn’t mean we can’t turn the hot lights on him. After all, he is a textbook example of what the House has become under Republican control. And he is also the Second Worst Person in the World. About Darrell Lucus \\nDarrell is a 30-something graduate of the University of North Carolina who considers himself a journalist of the old school. An attempt to turn him into a member of the religious right in college only succeeded in turning him into the religious right\\'s worst nightmare--a charismatic Christian who is an unapologetic liberal. His desire to stand up for those who have been scared into silence only increased when he survived an abusive three-year marriage. You may know him on Daily Kos as Christian Dem in NC . Follow him on Twitter @DarrellLucus or connect with him on Facebook . Click here to buy Darrell a Mello Yello. Connect'"
      ]
     },
     "execution_count": 52,
     "metadata": {},
     "output_type": "execute_result"
    }
   ],
   "source": [
    "testclean = data_1[\"text_corpus\"][0]\n",
    "testclean"
   ]
  },
  {
   "cell_type": "code",
   "execution_count": null,
   "id": "18e1285e",
   "metadata": {},
   "outputs": [],
   "source": [
    "#cleaned_text = re.sub(\"’t\",' ',cleaned_text)\n",
    "#cleaned_text"
   ]
  },
  {
   "cell_type": "code",
   "execution_count": null,
   "id": "8185a6f2",
   "metadata": {},
   "outputs": [],
   "source": [
    "#cleaned_text = re.sub('[^a-zA-Z\\@]',' ',cleaned_text)\n",
    "#cleaned_text"
   ]
  },
  {
   "cell_type": "code",
   "execution_count": 53,
   "id": "13a7f826",
   "metadata": {},
   "outputs": [
    {
     "data": {
      "text/plain": [
       "'Darrell Lucus House Dem Aide  We Didn’t Even See Comey’s Letter Until Jason Chaffetz Tweeted It House Dem Aide  We Didn’t Even See Comey’s Letter Until Jason Chaffetz Tweeted It By Darrell Lucus on October          Subscribe Jason Chaffetz on the stump in American Fork  Utah   image courtesy Michael Jolley  available under a Creative Commons BY license   With apologies to Keith Olbermann  there is no doubt who the Worst Person in The World is this week FBI Director James Comey  But according to a House Democratic aide  it looks like we also know who the second worst person is as well  It turns out that when Comey sent his now infamous letter announcing that the FBI was looking into emails that may be related to Hillary Clinton’s email server  the ranking Democrats on the relevant committees didn’t hear about it from Comey  They found out via a tweet from one of the Republican committee chairmen   As we now know  Comey notified the Republican chairmen and Democratic ranking members of the House Intelligence  Judiciary  and Oversight committees that his agency was reviewing emails it had recently discovered in order to see if they contained classified information  Not long after this letter went out  Oversight Committee Chairman Jason Chaffetz set the political world ablaze with this tweet  FBI Dir just informed me   The FBI has learned of the existence of emails that appear to be pertinent to the investigation   Case reopened    Jason Chaffetz  @jasoninthehouse  October           Of course  we now know that this was not the case   Comey was actually saying that it was reviewing the emails in light of  an unrelated case  which we now know to be Anthony Weiner’s sexting with a teenager  But apparently such little things as facts didn’t matter to Chaffetz  The Utah Republican had already vowed to initiate a raft of investigations if Hillary wins at least two years’ worth  and possibly an entire term’s worth of them  Apparently Chaffetz thought the FBI was already doing his work for him resulting in a tweet that briefly roiled the nation before cooler heads realized it was a dud   But according to a senior House Democratic aide  misreading that letter may have been the least of Chaffetz’ sins  That aide told Shareblue that his boss and other Democrats didn’t even know about Comey’s letter at the time and only found out when they checked Twitter   Democratic Ranking Members on the relevant committees didn’t receive Comey’s letter until after the Republican Chairmen  In fact  the Democratic Ranking Members didn’ receive it until after the Chairman of the Oversight and Government Reform Committee  Jason Chaffetz  tweeted it out and made it public    So let’s see if we’ve got this right  The FBI director tells Chaffetz and other GOP committee chairmen about a major development in a potentially politically explosive investigation  and neither Chaffetz nor his other colleagues had the courtesy to let their Democratic counterparts know about it  Instead  according to this aide  he made them find out about it on Twitter   There has already been talk on Daily Kos that Comey himself provided advance notice of this letter to Chaffetz and other Republicans  giving them time to turn on the spin machine  That may make for good theater  but there is nothing so far that even suggests this is the case  After all  there is nothing so far that suggests that Comey was anything other than grossly incompetent and tone deaf   What it does suggest  however  is that Chaffetz is acting in a way that makes Dan Burton and Darrell Issa look like models of responsibility and bipartisanship  He didn’t even have the decency to notify ranking member Elijah Cummings about something this explosive  If that doesn’t trample on basic standards of fairness  I don’t know what does   Granted  it’s not likely that Chaffetz will have to answer for this  He sits in a ridiculously Republican district anchored in Provo and Orem  it has a Cook Partisan Voting Index of R     and gave Mitt Romney a punishing    percent of the vote in       Moreover  the Republican House leadership has given its full support to Chaffetz’ planned fishing expedition  But that doesn’t mean we can’t turn the hot lights on him  After all  he is a textbook example of what the House has become under Republican control  And he is also the Second Worst Person in the World  About Darrell Lucus  Darrell is a    something graduate of the University of North Carolina who considers himself a journalist of the old school  An attempt to turn him into a member of the religious right in college only succeeded in turning him into the religious right s worst nightmare  a charismatic Christian who is an unapologetic liberal  His desire to stand up for those who have been scared into silence only increased when he survived an abusive three year marriage  You may know him on Daily Kos as Christian Dem in NC   Follow him on Twitter @DarrellLucus or connect with him on Facebook   Click here to buy Darrell a Mello Yello  Connect'"
      ]
     },
     "execution_count": 53,
     "metadata": {},
     "output_type": "execute_result"
    }
   ],
   "source": [
    "cleaned_text = re.sub('[^a-zA-Z\\@\\’]',' ',testclean)\n",
    "cleaned_text"
   ]
  },
  {
   "cell_type": "markdown",
   "id": "552d0a03",
   "metadata": {},
   "source": [
    "# Poster Stemmer"
   ]
  },
  {
   "cell_type": "code",
   "execution_count": 39,
   "id": "4e57ea52",
   "metadata": {},
   "outputs": [],
   "source": [
    "from nltk.stem.porter import PorterStemmer\n",
    "port_stem = PorterStemmer()"
   ]
  },
  {
   "cell_type": "code",
   "execution_count": 40,
   "id": "8b275d12",
   "metadata": {},
   "outputs": [],
   "source": [
    "def stemming(content):\n",
    "    stemmed_content = re.sub('[^a-zA-Z]',' ',content)\n",
    "    stemmed_content = stemmed_content.lower()\n",
    "    stemmed_content = stemmed_content.split()\n",
    "    stemmed_content = [port_stem.stem(word) for word in stemmed_content if not word in stopwords.words('english')]\n",
    "    stemmed_content = ' '.join(stemmed_content)\n",
    "    return stemmed_content"
   ]
  },
  {
   "cell_type": "markdown",
   "id": "500b6945",
   "metadata": {},
   "source": [
    "### [Data1 : author, title, text fillna with \" \"]"
   ]
  },
  {
   "cell_type": "code",
   "execution_count": 41,
   "id": "796acd8f",
   "metadata": {},
   "outputs": [
    {
     "name": "stdout",
     "output_type": "stream",
     "text": [
      "Wall time: 0 ns\n"
     ]
    }
   ],
   "source": [
    "%time"
   ]
  },
  {
   "cell_type": "code",
   "execution_count": 42,
   "id": "10a4f5a7",
   "metadata": {},
   "outputs": [
    {
     "ename": "NameError",
     "evalue": "name 'data_1' is not defined",
     "output_type": "error",
     "traceback": [
      "\u001b[1;31m---------------------------------------------------------------------------\u001b[0m",
      "\u001b[1;31mNameError\u001b[0m                                 Traceback (most recent call last)",
      "\u001b[1;32m~\\AppData\\Local\\Temp/ipykernel_28416/3725331905.py\u001b[0m in \u001b[0;36m<module>\u001b[1;34m\u001b[0m\n\u001b[1;32m----> 1\u001b[1;33m \u001b[0mdata_1\u001b[0m\u001b[1;33m[\u001b[0m\u001b[1;34m\"text_corpus\"\u001b[0m\u001b[1;33m]\u001b[0m \u001b[1;33m=\u001b[0m \u001b[0mdata_1\u001b[0m\u001b[1;33m[\u001b[0m\u001b[1;34m\"text_corpus\"\u001b[0m\u001b[1;33m]\u001b[0m\u001b[1;33m.\u001b[0m\u001b[0mapply\u001b[0m\u001b[1;33m(\u001b[0m\u001b[0mstemming\u001b[0m\u001b[1;33m)\u001b[0m\u001b[1;33m\u001b[0m\u001b[1;33m\u001b[0m\u001b[0m\n\u001b[0m",
      "\u001b[1;31mNameError\u001b[0m: name 'data_1' is not defined"
     ]
    }
   ],
   "source": [
    "data_1[\"text_corpus\"] = data_1[\"text_corpus\"].apply(stemming)"
   ]
  },
  {
   "cell_type": "code",
   "execution_count": null,
   "id": "689667ab",
   "metadata": {},
   "outputs": [],
   "source": [
    "X = data_1[\"text_corpus\"].values\n",
    "Y = data_1[\"label\"].values"
   ]
  },
  {
   "cell_type": "code",
   "execution_count": null,
   "id": "16390a58",
   "metadata": {},
   "outputs": [],
   "source": [
    "data_1[\"text_corpus\"][140]"
   ]
  },
  {
   "cell_type": "markdown",
   "id": "db37d842",
   "metadata": {},
   "source": [
    "### [Data2 :\n",
    "### author --> (fillna with Anonymous) \n",
    "### title --> (fillna with Unknow)  \n",
    "### text --> (fillna with None-Title)]"
   ]
  },
  {
   "cell_type": "code",
   "execution_count": null,
   "id": "b18c458e",
   "metadata": {},
   "outputs": [],
   "source": [
    "%time"
   ]
  },
  {
   "cell_type": "code",
   "execution_count": null,
   "id": "6996b75e",
   "metadata": {},
   "outputs": [],
   "source": [
    "data_2[\"text_corpus\"] = data_2[\"text_corpus\"].apply(stemming)"
   ]
  },
  {
   "cell_type": "code",
   "execution_count": null,
   "id": "041985a3",
   "metadata": {},
   "outputs": [],
   "source": [
    "X_2 = data_1[\"text_corpus\"].values\n",
    "Y_2 = data_1[\"label\"].values"
   ]
  },
  {
   "cell_type": "code",
   "execution_count": null,
   "id": "3602691d",
   "metadata": {},
   "outputs": [],
   "source": [
    "data_2[\"text_corpus\"].iloc[140]"
   ]
  },
  {
   "cell_type": "markdown",
   "id": "39243aac",
   "metadata": {},
   "source": [
    "### Data3 : Author fill with --> Anonymous , Title fill with --> None-title"
   ]
  },
  {
   "cell_type": "code",
   "execution_count": 46,
   "id": "016947e6",
   "metadata": {},
   "outputs": [
    {
     "name": "stdout",
     "output_type": "stream",
     "text": [
      "Wall time: 0 ns\n"
     ]
    }
   ],
   "source": [
    "%time"
   ]
  },
  {
   "cell_type": "code",
   "execution_count": 47,
   "id": "efb2d33b",
   "metadata": {},
   "outputs": [],
   "source": [
    "data_3[\"text_corpus\"] = data_3[\"text_corpus\"].apply(stemming)"
   ]
  },
  {
   "cell_type": "code",
   "execution_count": 48,
   "id": "44cf9dbc",
   "metadata": {},
   "outputs": [],
   "source": [
    "X_3 = data_3[\"text_corpus\"].values\n",
    "Y_3 = data_3[\"label\"].values"
   ]
  },
  {
   "cell_type": "code",
   "execution_count": 49,
   "id": "351420c7",
   "metadata": {},
   "outputs": [
    {
     "data": {
      "text/plain": [
       "'megan twohey scott shane back channel plan ukrain russia courtesi trump associ new york time'"
      ]
     },
     "execution_count": 49,
     "metadata": {},
     "output_type": "execute_result"
    }
   ],
   "source": [
    "data_3[\"text_corpus\"][9]"
   ]
  },
  {
   "cell_type": "code",
   "execution_count": 50,
   "id": "948a86d4",
   "metadata": {},
   "outputs": [
    {
     "data": {
      "text/plain": [
       "'alissa j rubin beno hamon win french socialist parti presidenti nomin new york time'"
      ]
     },
     "execution_count": 50,
     "metadata": {},
     "output_type": "execute_result"
    }
   ],
   "source": [
    "data_3[\"text_corpus\"][7]"
   ]
  },
  {
   "cell_type": "code",
   "execution_count": 51,
   "id": "a2441141",
   "metadata": {},
   "outputs": [
    {
     "name": "stdout",
     "output_type": "stream",
     "text": [
      "Wall time: 0 ns\n"
     ]
    }
   ],
   "source": [
    "%time"
   ]
  },
  {
   "cell_type": "markdown",
   "id": "4e4f7e9c",
   "metadata": {},
   "source": [
    "## TF-IDF \n",
    "### (Term Frequency, Inverse Document Frequency)"
   ]
  },
  {
   "cell_type": "markdown",
   "id": "4caa79d4",
   "metadata": {},
   "source": [
    "#### convert textual data to numerical data"
   ]
  },
  {
   "cell_type": "code",
   "execution_count": 52,
   "id": "26fbd0a4",
   "metadata": {},
   "outputs": [],
   "source": [
    "from sklearn.feature_extraction.text import TfidfVectorizer"
   ]
  },
  {
   "cell_type": "markdown",
   "id": "64c6d54e",
   "metadata": {},
   "source": [
    "### [Data1 : author, title, text fillna with \" \"]"
   ]
  },
  {
   "cell_type": "code",
   "execution_count": null,
   "id": "ec30952c",
   "metadata": {},
   "outputs": [],
   "source": [
    "vectorizer = TfidfVectorizer()\n",
    "vectorizer.fit(X)\n",
    "\n",
    "X = vectorizer.transform(X)"
   ]
  },
  {
   "cell_type": "code",
   "execution_count": null,
   "id": "eb831d79",
   "metadata": {},
   "outputs": [],
   "source": [
    "print(X)"
   ]
  },
  {
   "cell_type": "markdown",
   "id": "8765c228",
   "metadata": {},
   "source": [
    "### [Data2 :\n",
    "### author --> (fillna with Anonymous) \n",
    "### title --> (fillna with Unknow)  \n",
    "### text --> (fillna with None-Title)]"
   ]
  },
  {
   "cell_type": "code",
   "execution_count": null,
   "id": "34606746",
   "metadata": {},
   "outputs": [],
   "source": [
    "vectorizer = TfidfVectorizer()\n",
    "vectorizer.fit(X_2)\n",
    "\n",
    "X_2 = vectorizer.transform(X_2)"
   ]
  },
  {
   "cell_type": "code",
   "execution_count": null,
   "id": "68e6b933",
   "metadata": {},
   "outputs": [],
   "source": [
    "print(X_2)"
   ]
  },
  {
   "cell_type": "markdown",
   "id": "79747d7d",
   "metadata": {},
   "source": [
    "### Data3 : Author fill with --> Anonymous , Title fill with --> None-title"
   ]
  },
  {
   "cell_type": "code",
   "execution_count": 53,
   "id": "780d3f89",
   "metadata": {},
   "outputs": [],
   "source": [
    "vectorizer = TfidfVectorizer()\n",
    "vectorizer.fit(X_3)\n",
    "\n",
    "X_3 = vectorizer.transform(X_3)"
   ]
  },
  {
   "cell_type": "code",
   "execution_count": 54,
   "id": "b8a6e98a",
   "metadata": {},
   "outputs": [
    {
     "name": "stdout",
     "output_type": "stream",
     "text": [
      "  (0, 17288)\t0.2779790715122494\n",
      "  (0, 14828)\t0.25300004585158203\n",
      "  (0, 9798)\t0.36870131681209267\n",
      "  (0, 9497)\t0.2908293243525521\n",
      "  (0, 8465)\t0.249033962921963\n",
      "  (0, 7716)\t0.21675633835234503\n",
      "  (0, 5460)\t0.2320465454709669\n",
      "  (0, 4153)\t0.26957527122499325\n",
      "  (0, 3947)\t0.36503993704044313\n",
      "  (0, 3250)\t0.24169729055914616\n",
      "  (0, 2716)\t0.37271190458166004\n",
      "  (0, 292)\t0.2685008471818447\n",
      "  (1, 18506)\t0.3027543127577561\n",
      "  (1, 7506)\t0.1915161559815512\n",
      "  (1, 6041)\t0.7146718596403576\n",
      "  (1, 3913)\t0.26361381655756927\n",
      "  (1, 3085)\t0.1918790142758126\n",
      "  (1, 2427)\t0.37850916832802606\n",
      "  (1, 2063)\t0.15462233978110554\n",
      "  (1, 1635)\t0.29566613312241063\n",
      "  (2, 17205)\t0.4169195592692962\n",
      "  (2, 10596)\t0.49581468195682143\n",
      "  (2, 6567)\t0.3493468310392253\n",
      "  (2, 5911)\t0.3855195964775078\n",
      "  (2, 3405)\t0.45786740298886996\n",
      "  :\t:\n",
      "  (25842, 49)\t0.268100488132315\n",
      "  (25843, 18716)\t0.11970747627121833\n",
      "  (25843, 16897)\t0.340444403653259\n",
      "  (25843, 16848)\t0.11738152213471809\n",
      "  (25843, 16321)\t0.522276270957286\n",
      "  (25843, 11356)\t0.11573528562783629\n",
      "  (25843, 10606)\t0.2964049848847695\n",
      "  (25843, 10362)\t0.3811753501691379\n",
      "  (25843, 5494)\t0.47915894133070225\n",
      "  (25843, 2384)\t0.3272281973861964\n",
      "  (25844, 17664)\t0.2839173175105296\n",
      "  (25844, 14367)\t0.31824523624280193\n",
      "  (25844, 11533)\t0.513943105550392\n",
      "  (25844, 10127)\t0.44241258819313706\n",
      "  (25844, 4225)\t0.44673704466918157\n",
      "  (25844, 1927)\t0.3456216352335152\n",
      "  (25844, 634)\t0.19803083262616725\n",
      "  (25845, 18716)\t0.10545710909335713\n",
      "  (25845, 18182)\t0.4267099397910639\n",
      "  (25845, 16848)\t0.10340804409959427\n",
      "  (25845, 16598)\t0.5042457730725445\n",
      "  (25845, 14969)\t0.3046472667080688\n",
      "  (25845, 11801)\t0.48471219878499366\n",
      "  (25845, 11356)\t0.10195778093886768\n",
      "  (25845, 1107)\t0.4513193329799733\n"
     ]
    }
   ],
   "source": [
    "print(X_3)"
   ]
  },
  {
   "cell_type": "markdown",
   "id": "b63bca45",
   "metadata": {},
   "source": [
    "## Modeling"
   ]
  },
  {
   "cell_type": "code",
   "execution_count": 55,
   "id": "886f74e4",
   "metadata": {},
   "outputs": [],
   "source": [
    "from sklearn.model_selection import train_test_split\n",
    "from sklearn.linear_model import LogisticRegression\n",
    "from sklearn.metrics import accuracy_score\n",
    "from sklearn.metrics import classification_report\n",
    "from sklearn import metrics\n",
    "import sklearn\n",
    "import matplotlib.pyplot as plt\n",
    "import numpy as np\n",
    "import itertools"
   ]
  },
  {
   "cell_type": "markdown",
   "id": "7fdb5c24",
   "metadata": {},
   "source": [
    "### [Data1 : author, title, text fillna with \" \"]"
   ]
  },
  {
   "cell_type": "code",
   "execution_count": null,
   "id": "0ab8a51f",
   "metadata": {},
   "outputs": [],
   "source": [
    "X_train, X_test, Y_train, Y_test = train_test_split(X, Y, test_size=0.2, stratify = Y, random_state = 124)"
   ]
  },
  {
   "cell_type": "code",
   "execution_count": null,
   "id": "2cefc6c3",
   "metadata": {},
   "outputs": [],
   "source": [
    "Model = LogisticRegression()\n",
    "Model.fit(X_train, Y_train)"
   ]
  },
  {
   "cell_type": "markdown",
   "id": "f579143e",
   "metadata": {},
   "source": [
    "### [Data2 :\n",
    "### author --> (fillna with Anonymous) \n",
    "### title --> (fillna with Unknow)  \n",
    "### text --> (fillna with None-Title)]"
   ]
  },
  {
   "cell_type": "code",
   "execution_count": null,
   "id": "987a0d0f",
   "metadata": {},
   "outputs": [],
   "source": [
    "X_train_2, X_test_2, Y_train_2, Y_test_2 = train_test_split(X_2, Y_2, test_size=0.2, stratify = Y_2, random_state = 124)"
   ]
  },
  {
   "cell_type": "code",
   "execution_count": null,
   "id": "10c40ec6",
   "metadata": {},
   "outputs": [],
   "source": [
    "Model2 = LogisticRegression()\n",
    "Model2.fit(X_train_2, Y_train_2)"
   ]
  },
  {
   "cell_type": "markdown",
   "id": "eaa77e7f",
   "metadata": {},
   "source": [
    "### Data3 : Author fill with --> Anonymous , Title fill with --> None-title"
   ]
  },
  {
   "cell_type": "code",
   "execution_count": 61,
   "id": "44629f6a",
   "metadata": {},
   "outputs": [],
   "source": [
    "X_train_3, X_test_3, Y_train_3, Y_test_3 = train_test_split(X_3, Y_3, test_size=0.2, stratify = Y_3, random_state=42 )"
   ]
  },
  {
   "cell_type": "code",
   "execution_count": 62,
   "id": "82318e8c",
   "metadata": {},
   "outputs": [
    {
     "data": {
      "text/plain": [
       "LogisticRegression()"
      ]
     },
     "execution_count": 62,
     "metadata": {},
     "output_type": "execute_result"
    }
   ],
   "source": [
    "Model3 = LogisticRegression()\n",
    "Model3.fit(X_train_3, Y_train_3)"
   ]
  },
  {
   "cell_type": "markdown",
   "id": "d0aae7f9",
   "metadata": {},
   "source": [
    "## Evaluate model"
   ]
  },
  {
   "cell_type": "markdown",
   "id": "cf3c634b",
   "metadata": {},
   "source": [
    "### [Data1 : author, title, text fillna with \" \"]"
   ]
  },
  {
   "cell_type": "code",
   "execution_count": null,
   "id": "0f77511d",
   "metadata": {},
   "outputs": [],
   "source": [
    "X_train_prediction = Model.predict(X_train)\n",
    "training_data_accuracy = accuracy_score(X_train_prediction, Y_train)\n",
    "print('Accuracy score on the training data: ',training_data_accuracy)"
   ]
  },
  {
   "cell_type": "code",
   "execution_count": null,
   "id": "ceaabca2",
   "metadata": {},
   "outputs": [],
   "source": [
    "X_test_prediction = Model.predict(X_test)\n",
    "test_data_accuracy = accuracy_score(X_test_prediction, Y_test)\n",
    "\n",
    "print('Accuracy score on the test data: ',test_data_accuracy)"
   ]
  },
  {
   "cell_type": "code",
   "execution_count": null,
   "id": "820b4127",
   "metadata": {},
   "outputs": [],
   "source": [
    "target_name = [\"Fake\",\"Real\"]\n",
    "print(classification_report(Y_test, X_test_prediction,target_names=target_name) )"
   ]
  },
  {
   "cell_type": "code",
   "execution_count": null,
   "id": "791f39da",
   "metadata": {},
   "outputs": [],
   "source": [
    "confusion_matrix = metrics.confusion_matrix(Y_test, X_test_prediction)\n",
    "print(\"      Confusion Matrix\")\n",
    "print(\"             Fake  Real\")\n",
    "print(\"Actual Fake\",confusion_matrix[0])\n",
    "print(\"Actual Real\",confusion_matrix[1])"
   ]
  },
  {
   "cell_type": "code",
   "execution_count": null,
   "id": "e602171f",
   "metadata": {},
   "outputs": [],
   "source": [
    "print(\"True Positive : ทำนายถูกว่าเป็นข่าวปลอม 2217 [ทำนายถูก]\")\n",
    "print(\"False Positive : ทำนายว่าเป็นข่าวปลอม แต่เป็นข่าวจริง 325 [ทำนายผิด]\")\n",
    "print(\"False Negative : ทำนายว่าเป็นไม่เป็นข่าวปลอม แต่เป็นข่าวปลอม 244 [ทำนายผิด]\")\n",
    "print(\"True Negative : ทำนายถูกว่าไม่เป็นข่าวปลอม (เป็นข่าวจริง) 2384 [ทำนายถูก] \")"
   ]
  },
  {
   "cell_type": "code",
   "execution_count": 69,
   "id": "d2eb1c99",
   "metadata": {},
   "outputs": [],
   "source": [
    "# Function to plot confusion Matrix\n",
    "def plot_confusion_matrix(cm, \n",
    "                          classes,\n",
    "                          normalize=False,\n",
    "                          title='Confusion Matrix',\n",
    "                          cmap=plt.cm.Blues):\n",
    "  plt.imshow(cm, interpolation='nearest', cmap=cmap)\n",
    "  plt.title(title)\n",
    "  plt.colorbar()\n",
    "  tick_marks = np.arange(len(classes))\n",
    "  plt.xticks(tick_marks, classes, rotation=45)\n",
    "  plt.yticks(tick_marks, classes)\n",
    "  \n",
    "  if normalize:\n",
    "    cm = cm.astype('float') / cm.sum(axis=1)[:, np.newaxis]\n",
    "    print(\"Normalized confusion matrix\")\n",
    "  else:\n",
    "      print('Confusion matrix, without normalization')\n",
    "  thresh = cm.max() / 2.\n",
    "  for i, j in itertools.product(range(cm.shape[0]), range(cm.shape[1])):\n",
    "      plt.text(j, i, cm[i, j],horizontalalignment=\"center\",color=\"white\" if cm[i, j] > thresh else \"black\")\n",
    "  plt.tight_layout()\n",
    "  plt.ylabel('True label')\n",
    "  plt.xlabel('Predicted label')"
   ]
  },
  {
   "cell_type": "code",
   "execution_count": null,
   "id": "cb13a333",
   "metadata": {},
   "outputs": [],
   "source": [
    "cm = metrics.confusion_matrix(Y_test, X_test_prediction)\n",
    "plot_confusion_matrix(cm, classes=['Fake', 'Real'])"
   ]
  },
  {
   "cell_type": "markdown",
   "id": "a8c4fa23",
   "metadata": {},
   "source": [
    "### [Data2 :\n",
    "### author --> (fillna with Anonymous) \n",
    "### title --> (fillna with None-Title)  \n",
    "### text --> (fillna with \" \")]"
   ]
  },
  {
   "cell_type": "code",
   "execution_count": null,
   "id": "91eecd89",
   "metadata": {},
   "outputs": [],
   "source": [
    "X_train_prediction_2 = Model2.predict(X_train_2)\n",
    "training_data_accuracy_2 = accuracy_score(X_train_prediction_2, Y_train_2)\n",
    "print('Accuracy score on the training data: ',training_data_accuracy_2)"
   ]
  },
  {
   "cell_type": "code",
   "execution_count": null,
   "id": "92399a91",
   "metadata": {},
   "outputs": [],
   "source": [
    "X_test_prediction_2 = Model2.predict(X_test_2)\n",
    "test_data_accuracy_2 = accuracy_score(X_test_prediction_2, Y_test_2)\n",
    "\n",
    "print('Accuracy score on the test data: ',test_data_accuracy_2)"
   ]
  },
  {
   "cell_type": "code",
   "execution_count": null,
   "id": "b726ffec",
   "metadata": {},
   "outputs": [],
   "source": [
    "target_name = [\"Fake\",\"Real\"]\n",
    "print(classification_report(Y_test_2, X_test_prediction_2,target_names=target_name) )"
   ]
  },
  {
   "cell_type": "code",
   "execution_count": null,
   "id": "3f2b269b",
   "metadata": {},
   "outputs": [],
   "source": [
    "confusion_matrix_2 = metrics.confusion_matrix(Y_test_2, X_test_prediction_2)\n",
    "print(\"      Confusion Matrix\")\n",
    "print(\"             Fake  Real\")\n",
    "print(\"Actual Fake\",confusion_matrix_2[0])\n",
    "print(\"Actual Real\",confusion_matrix_2[1])"
   ]
  },
  {
   "cell_type": "code",
   "execution_count": null,
   "id": "80ad9072",
   "metadata": {},
   "outputs": [],
   "source": [
    "print(\"True Positive : ทำนายถูกว่าเป็นข่าวปลอม 2217 [ทำนายถูก]\")\n",
    "print(\"False Positive : ทำนายว่าเป็นข่าวปลอม แต่เป็นข่าวจริง 325 [ทำนายผิด]\")\n",
    "print(\"False Negative : ทำนายว่าเป็นไม่เป็นข่าวปลอม แต่เป็นข่าวปลอม 244 [ทำนายผิด]\")\n",
    "print(\"True Negative : ทำนายถูกว่าไม่เป็นข่าวปลอม (เป็นข่าวจริง) 2384 [ทำนายถูก] \")"
   ]
  },
  {
   "cell_type": "code",
   "execution_count": null,
   "id": "81125731",
   "metadata": {
    "scrolled": true
   },
   "outputs": [],
   "source": [
    "cm2 = metrics.confusion_matrix(Y_test_2, X_test_prediction_2)\n",
    "plot_confusion_matrix(cm2, classes=['Fake', 'Real'])"
   ]
  },
  {
   "cell_type": "markdown",
   "id": "4160a4fb",
   "metadata": {},
   "source": [
    "### Data3 : Author fill with --> Anonymous , Title fill with --> None-title"
   ]
  },
  {
   "cell_type": "code",
   "execution_count": 63,
   "id": "821c7baa",
   "metadata": {},
   "outputs": [
    {
     "name": "stdout",
     "output_type": "stream",
     "text": [
      "Accuracy score on the training data:  0.9246952988972722\n"
     ]
    }
   ],
   "source": [
    "X_train_prediction_3 = Model3.predict(X_train_3)\n",
    "training_data_accuracy_3 = accuracy_score(X_train_prediction_3, Y_train_3)\n",
    "print('Accuracy score on the training data: ',training_data_accuracy_3)"
   ]
  },
  {
   "cell_type": "code",
   "execution_count": 64,
   "id": "72c215c3",
   "metadata": {},
   "outputs": [
    {
     "name": "stdout",
     "output_type": "stream",
     "text": [
      "Accuracy score on the test data:  0.9052224371373307\n"
     ]
    }
   ],
   "source": [
    "X_test_prediction_3 = Model3.predict(X_test_3)\n",
    "test_data_accuracy_3 = accuracy_score(X_test_prediction_3, Y_test_3)\n",
    "\n",
    "print('Accuracy score on the test data: ',test_data_accuracy_3)"
   ]
  },
  {
   "cell_type": "code",
   "execution_count": 65,
   "id": "d1d8dcca",
   "metadata": {},
   "outputs": [
    {
     "name": "stdout",
     "output_type": "stream",
     "text": [
      "              precision    recall  f1-score   support\n",
      "\n",
      "        Fake       0.91      0.89      0.90      2542\n",
      "        Real       0.90      0.92      0.91      2628\n",
      "\n",
      "    accuracy                           0.91      5170\n",
      "   macro avg       0.91      0.90      0.91      5170\n",
      "weighted avg       0.91      0.91      0.91      5170\n",
      "\n"
     ]
    }
   ],
   "source": [
    "target_name = [\"Fake\",\"Real\"]\n",
    "print(classification_report(Y_test_3, X_test_prediction_3,target_names=target_name) )"
   ]
  },
  {
   "cell_type": "code",
   "execution_count": 66,
   "id": "20932ae9",
   "metadata": {},
   "outputs": [
    {
     "name": "stdout",
     "output_type": "stream",
     "text": [
      "      Confusion Matrix\n",
      "             Fake  Real\n",
      "Actual Fake [2263  279]\n",
      "Actual Real [ 211 2417]\n"
     ]
    }
   ],
   "source": [
    "confusion_matrix_3 = metrics.confusion_matrix(Y_test_3, X_test_prediction_3)\n",
    "print(\"      Confusion Matrix\")\n",
    "print(\"             Fake  Real\")\n",
    "print(\"Actual Fake\",confusion_matrix_3[0])\n",
    "print(\"Actual Real\",confusion_matrix_3[1])"
   ]
  },
  {
   "cell_type": "code",
   "execution_count": 67,
   "id": "2dff5d3f",
   "metadata": {},
   "outputs": [
    {
     "name": "stdout",
     "output_type": "stream",
     "text": [
      "True Positive : ทำนายถูกว่าเป็นข่าวปลอม 2284 [ทำนายถูก]\n",
      "False Positive : ทำนายว่าเป็นข่าวปลอม แต่เป็นข่าวจริง 175 [ทำนายผิด]\n",
      "False Negative : ทำนายว่าเป็นไม่เป็นข่าวปลอม แต่เป็นข่าวปลอม 258 [ทำนายผิด]\n",
      "True Negative : ทำนายถูกว่าไม่เป็นข่าวปลอม (เป็นข่าวจริง) 2453 [ทำนายถูก] \n"
     ]
    }
   ],
   "source": [
    "print(\"True Positive : ทำนายถูกว่าเป็นข่าวปลอม 2284 [ทำนายถูก]\")\n",
    "print(\"False Positive : ทำนายว่าเป็นข่าวปลอม แต่เป็นข่าวจริง 175 [ทำนายผิด]\")\n",
    "print(\"False Negative : ทำนายว่าเป็นไม่เป็นข่าวปลอม แต่เป็นข่าวปลอม 258 [ทำนายผิด]\")\n",
    "print(\"True Negative : ทำนายถูกว่าไม่เป็นข่าวปลอม (เป็นข่าวจริง) 2453 [ทำนายถูก] \")"
   ]
  },
  {
   "cell_type": "code",
   "execution_count": 70,
   "id": "2a21ebb6",
   "metadata": {
    "scrolled": false
   },
   "outputs": [
    {
     "name": "stdout",
     "output_type": "stream",
     "text": [
      "Confusion matrix, without normalization\n"
     ]
    },
    {
     "data": {
      "image/png": "[encoded data removed]",
      "text/plain": [
       "<Figure size 432x288 with 2 Axes>"
      ]
     },
     "metadata": {
      "needs_background": "light"
     },
     "output_type": "display_data"
    }
   ],
   "source": [
    "cm3 = metrics.confusion_matrix(Y_test_3, X_test_prediction_3)\n",
    "plot_confusion_matrix(cm3, classes=['Fake', 'Real'])"
   ]
  },
  {
   "cell_type": "markdown",
   "id": "f6359444",
   "metadata": {},
   "source": [
    "## Prediction Fake or Real news"
   ]
  },
  {
   "cell_type": "markdown",
   "id": "3197bdd0",
   "metadata": {},
   "source": [
    "### [Data1 : author, title, text fillna with \" \"]"
   ]
  },
  {
   "cell_type": "code",
   "execution_count": null,
   "id": "e5ea2305",
   "metadata": {
    "scrolled": false
   },
   "outputs": [],
   "source": [
    "X_test_sample = X_test[25]"
   ]
  },
  {
   "cell_type": "code",
   "execution_count": null,
   "id": "ad73ed77",
   "metadata": {},
   "outputs": [],
   "source": [
    "predict = Model.predict(X_test_sample)\n",
    "print(predict)"
   ]
  },
  {
   "cell_type": "code",
   "execution_count": null,
   "id": "b78abba0",
   "metadata": {},
   "outputs": [],
   "source": [
    "print(Y_test[25])"
   ]
  },
  {
   "cell_type": "markdown",
   "id": "a4b53915",
   "metadata": {},
   "source": [
    "### [Data2 :\n",
    "### author --> (fillna with Anonymous) \n",
    "### title --> (fillna with None-Title)  \n",
    "### text --> (fillna with \" \")]"
   ]
  },
  {
   "cell_type": "code",
   "execution_count": null,
   "id": "c7447613",
   "metadata": {
    "scrolled": false
   },
   "outputs": [],
   "source": [
    "X_test_sample_2 = X_test_2[25]"
   ]
  },
  {
   "cell_type": "code",
   "execution_count": null,
   "id": "1d12d50b",
   "metadata": {},
   "outputs": [],
   "source": [
    "predict2 = Model.predict(X_test_sample_2)\n",
    "print(predict2)"
   ]
  },
  {
   "cell_type": "code",
   "execution_count": null,
   "id": "38f81db2",
   "metadata": {},
   "outputs": [],
   "source": [
    "print(Y_test_2[25])"
   ]
  },
  {
   "cell_type": "code",
   "execution_count": 77,
   "id": "6e1a7f6e",
   "metadata": {},
   "outputs": [
    {
     "name": "stdout",
     "output_type": "stream",
     "text": [
      "[0]\n",
      "0\n"
     ]
    }
   ],
   "source": [
    "### [Data2 :\n",
    "### author --> (fillna with Anonymous) \n",
    "### title --> (fillna with None-Title)  \n",
    "### text --> (fillna with \" \")]\n",
    "\n",
    "X_test_sample_3 = X_test_3[25]\n",
    "\n",
    "predict3 = Model3.predict(X_test_sample_3)\n",
    "print(predict3)\n",
    "\n",
    "print(Y_test_3[25])"
   ]
  },
  {
   "cell_type": "code",
   "execution_count": null,
   "id": "7a7b4f53",
   "metadata": {},
   "outputs": [],
   "source": []
  }
 ],
 "metadata": {
  "kernelspec": {
   "display_name": "Python 3 (ipykernel)",
   "language": "python",
   "name": "python3"
  },
  "language_info": {
   "codemirror_mode": {
    "name": "ipython",
    "version": 3
   },
   "file_extension": ".py",
   "mimetype": "text/x-python",
   "name": "python",
   "nbconvert_exporter": "python",
   "pygments_lexer": "ipython3",
   "version": "3.8.11"
  }
 },
 "nbformat": 4,
 "nbformat_minor": 5
}
