{
 "cells": [
  {
   "cell_type": "code",
   "execution_count": null,
   "metadata": {},
   "outputs": [],
   "source": [
    "# Author : Sagar Bapodara (This is my first submission in a kaggle competition)"
   ]
  },
  {
   "cell_type": "markdown",
   "metadata": {},
   "source": [
    "# Importing Dependencies"
   ]
  },
  {
   "cell_type": "code",
   "execution_count": 1,
   "metadata": {
    "execution": {
     "iopub.execute_input": "2021-10-17T05:35:38.673709Z",
     "iopub.status.busy": "2021-10-17T05:35:38.673378Z",
     "iopub.status.idle": "2021-10-17T05:35:40.65817Z",
     "shell.execute_reply": "2021-10-17T05:35:40.65707Z",
     "shell.execute_reply.started": "2021-10-17T05:35:38.673622Z"
    }
   },
   "outputs": [
    {
     "name": "stdout",
     "output_type": "stream",
     "text": [
      "Dependencies Loaded Successfully\n"
     ]
    }
   ],
   "source": [
    "import os\n",
    "import sys\n",
    "import numpy as np\n",
    "import pandas as pd\n",
    "import seaborn as sns\n",
    "import matplotlib.pyplot as plt\n",
    "import re \n",
    "from nltk.corpus import stopwords \n",
    "from nltk.stem.porter import PorterStemmer\n",
    "from sklearn.feature_extraction.text import TfidfVectorizer\n",
    "from sklearn.model_selection import train_test_split \n",
    "from sklearn.linear_model import LogisticRegression\n",
    "from sklearn.metrics import accuracy_score \n",
    "print('Dependencies Loaded Successfully')"
   ]
  },
  {
   "cell_type": "code",
   "execution_count": 2,
   "metadata": {
    "execution": {
     "iopub.execute_input": "2021-10-17T05:35:41.969388Z",
     "iopub.status.busy": "2021-10-17T05:35:41.969131Z",
     "iopub.status.idle": "2021-10-17T05:35:42.124024Z",
     "shell.execute_reply": "2021-10-17T05:35:42.122398Z",
     "shell.execute_reply.started": "2021-10-17T05:35:41.969361Z"
    }
   },
   "outputs": [
    {
     "name": "stdout",
     "output_type": "stream",
     "text": [
      "['i', 'me', 'my', 'myself', 'we', 'our', 'ours', 'ourselves', 'you', \"you're\", \"you've\", \"you'll\", \"you'd\", 'your', 'yours', 'yourself', 'yourselves', 'he', 'him', 'his', 'himself', 'she', \"she's\", 'her', 'hers', 'herself', 'it', \"it's\", 'its', 'itself', 'they', 'them', 'their', 'theirs', 'themselves', 'what', 'which', 'who', 'whom', 'this', 'that', \"that'll\", 'these', 'those', 'am', 'is', 'are', 'was', 'were', 'be', 'been', 'being', 'have', 'has', 'had', 'having', 'do', 'does', 'did', 'doing', 'a', 'an', 'the', 'and', 'but', 'if', 'or', 'because', 'as', 'until', 'while', 'of', 'at', 'by', 'for', 'with', 'about', 'against', 'between', 'into', 'through', 'during', 'before', 'after', 'above', 'below', 'to', 'from', 'up', 'down', 'in', 'out', 'on', 'off', 'over', 'under', 'again', 'further', 'then', 'once', 'here', 'there', 'when', 'where', 'why', 'how', 'all', 'any', 'both', 'each', 'few', 'more', 'most', 'other', 'some', 'such', 'no', 'nor', 'not', 'only', 'own', 'same', 'so', 'than', 'too', 'very', 's', 't', 'can', 'will', 'just', 'don', \"don't\", 'should', \"should've\", 'now', 'd', 'll', 'm', 'o', 're', 've', 'y', 'ain', 'aren', \"aren't\", 'couldn', \"couldn't\", 'didn', \"didn't\", 'doesn', \"doesn't\", 'hadn', \"hadn't\", 'hasn', \"hasn't\", 'haven', \"haven't\", 'isn', \"isn't\", 'ma', 'mightn', \"mightn't\", 'mustn', \"mustn't\", 'needn', \"needn't\", 'shan', \"shan't\", 'shouldn', \"shouldn't\", 'wasn', \"wasn't\", 'weren', \"weren't\", 'won', \"won't\", 'wouldn', \"wouldn't\"]\n"
     ]
    },
    {
     "name": "stderr",
     "output_type": "stream",
     "text": [
      "[nltk_data] Downloading package stopwords to\n",
      "[nltk_data]     C:\\Users\\2543b\\AppData\\Roaming\\nltk_data...\n",
      "[nltk_data]   Package stopwords is already up-to-date!\n"
     ]
    }
   ],
   "source": [
    "# Importing the stopwords\n",
    "import nltk\n",
    "nltk.download('stopwords')\n",
    "print(stopwords.words('english')) #English Stopwords"
   ]
  },
  {
   "cell_type": "markdown",
   "metadata": {},
   "source": [
    "# Importing Data "
   ]
  },
  {
   "cell_type": "code",
   "execution_count": null,
   "metadata": {
    "execution": {
     "iopub.execute_input": "2021-10-17T05:35:48.757745Z",
     "iopub.status.busy": "2021-10-17T05:35:48.757438Z",
     "iopub.status.idle": "2021-10-17T05:35:51.495743Z",
     "shell.execute_reply": "2021-10-17T05:35:51.494788Z",
     "shell.execute_reply.started": "2021-10-17T05:35:48.757686Z"
    }
   },
   "outputs": [],
   "source": [
    "news_data = pd.read_csv('../input/fake-news/train.csv')\n",
    "news_data.head(10)"
   ]
  },
  {
   "cell_type": "markdown",
   "metadata": {},
   "source": [
    "#### 1 : Fake News, 0 : Real News"
   ]
  },
  {
   "cell_type": "markdown",
   "metadata": {},
   "source": [
    "# Basic Data Analysis"
   ]
  },
  {
   "cell_type": "code",
   "execution_count": null,
   "metadata": {
    "execution": {
     "iopub.execute_input": "2021-10-17T05:35:57.313631Z",
     "iopub.status.busy": "2021-10-17T05:35:57.313171Z",
     "iopub.status.idle": "2021-10-17T05:35:57.319493Z",
     "shell.execute_reply": "2021-10-17T05:35:57.318246Z",
     "shell.execute_reply.started": "2021-10-17T05:35:57.3136Z"
    }
   },
   "outputs": [],
   "source": [
    "news_data.shape"
   ]
  },
  {
   "cell_type": "code",
   "execution_count": null,
   "metadata": {
    "execution": {
     "iopub.execute_input": "2021-10-17T05:35:57.582539Z",
     "iopub.status.busy": "2021-10-17T05:35:57.582281Z",
     "iopub.status.idle": "2021-10-17T05:35:57.595069Z",
     "shell.execute_reply": "2021-10-17T05:35:57.59444Z",
     "shell.execute_reply.started": "2021-10-17T05:35:57.582515Z"
    }
   },
   "outputs": [],
   "source": [
    "print(news_data['label'].value_counts())"
   ]
  },
  {
   "cell_type": "code",
   "execution_count": null,
   "metadata": {
    "execution": {
     "iopub.execute_input": "2021-10-17T05:35:57.888503Z",
     "iopub.status.busy": "2021-10-17T05:35:57.887738Z",
     "iopub.status.idle": "2021-10-17T05:35:57.901821Z",
     "shell.execute_reply": "2021-10-17T05:35:57.901016Z",
     "shell.execute_reply.started": "2021-10-17T05:35:57.888476Z"
    }
   },
   "outputs": [],
   "source": [
    "# Checking for missing values in the dataset\n",
    "news_data.isnull().sum()"
   ]
  },
  {
   "cell_type": "code",
   "execution_count": null,
   "metadata": {
    "execution": {
     "iopub.execute_input": "2021-10-17T05:36:00.237013Z",
     "iopub.status.busy": "2021-10-17T05:36:00.236772Z",
     "iopub.status.idle": "2021-10-17T05:36:00.249919Z",
     "shell.execute_reply": "2021-10-17T05:36:00.248617Z",
     "shell.execute_reply.started": "2021-10-17T05:36:00.236991Z"
    }
   },
   "outputs": [],
   "source": [
    "# Replacing the null values with emtpy strings \n",
    "news_data = news_data.fillna('')"
   ]
  },
  {
   "cell_type": "code",
   "execution_count": null,
   "metadata": {
    "execution": {
     "iopub.execute_input": "2021-10-17T05:36:00.781911Z",
     "iopub.status.busy": "2021-10-17T05:36:00.78166Z",
     "iopub.status.idle": "2021-10-17T05:36:00.794987Z",
     "shell.execute_reply": "2021-10-17T05:36:00.793932Z",
     "shell.execute_reply.started": "2021-10-17T05:36:00.781887Z"
    }
   },
   "outputs": [],
   "source": [
    "# Checking for missing values again\n",
    "news_data.isnull().sum()"
   ]
  },
  {
   "cell_type": "markdown",
   "metadata": {},
   "source": [
    "# Classification Plan :\n",
    "#### To use '*Title*' and '*Author*' data columns to make predictions"
   ]
  },
  {
   "cell_type": "code",
   "execution_count": null,
   "metadata": {
    "execution": {
     "iopub.execute_input": "2021-10-17T05:36:24.481186Z",
     "iopub.status.busy": "2021-10-17T05:36:24.480754Z",
     "iopub.status.idle": "2021-10-17T05:36:24.493362Z",
     "shell.execute_reply": "2021-10-17T05:36:24.49193Z",
     "shell.execute_reply.started": "2021-10-17T05:36:24.481163Z"
    }
   },
   "outputs": [],
   "source": [
    "#merging the author name and news title \n",
    "news_data['content'] = news_data['author']+' '+news_data['title']"
   ]
  },
  {
   "cell_type": "code",
   "execution_count": null,
   "metadata": {
    "execution": {
     "iopub.execute_input": "2021-10-17T05:36:24.796848Z",
     "iopub.status.busy": "2021-10-17T05:36:24.796588Z",
     "iopub.status.idle": "2021-10-17T05:36:24.802861Z",
     "shell.execute_reply": "2021-10-17T05:36:24.802359Z",
     "shell.execute_reply.started": "2021-10-17T05:36:24.796826Z"
    }
   },
   "outputs": [],
   "source": [
    "print(news_data['content'])"
   ]
  },
  {
   "cell_type": "code",
   "execution_count": null,
   "metadata": {
    "execution": {
     "iopub.execute_input": "2021-10-17T05:36:25.438613Z",
     "iopub.status.busy": "2021-10-17T05:36:25.437902Z",
     "iopub.status.idle": "2021-10-17T05:36:25.454373Z",
     "shell.execute_reply": "2021-10-17T05:36:25.453626Z",
     "shell.execute_reply.started": "2021-10-17T05:36:25.438549Z"
    }
   },
   "outputs": [],
   "source": [
    "# separating the data & label\n",
    "X = news_data.drop(columns='label', axis=1)\n",
    "Y = news_data['label']"
   ]
  },
  {
   "cell_type": "code",
   "execution_count": null,
   "metadata": {
    "execution": {
     "iopub.execute_input": "2021-10-17T05:36:25.921766Z",
     "iopub.status.busy": "2021-10-17T05:36:25.921489Z",
     "iopub.status.idle": "2021-10-17T05:36:25.930228Z",
     "shell.execute_reply": "2021-10-17T05:36:25.929533Z",
     "shell.execute_reply.started": "2021-10-17T05:36:25.92174Z"
    }
   },
   "outputs": [],
   "source": [
    "print(X)"
   ]
  },
  {
   "cell_type": "code",
   "execution_count": null,
   "metadata": {
    "execution": {
     "iopub.execute_input": "2021-10-17T05:36:29.514336Z",
     "iopub.status.busy": "2021-10-17T05:36:29.514003Z",
     "iopub.status.idle": "2021-10-17T05:36:29.519807Z",
     "shell.execute_reply": "2021-10-17T05:36:29.518796Z",
     "shell.execute_reply.started": "2021-10-17T05:36:29.514314Z"
    }
   },
   "outputs": [],
   "source": [
    "print(Y)"
   ]
  },
  {
   "cell_type": "markdown",
   "metadata": {},
   "source": [
    "# Stemming Process \n",
    "#### In short : Reducing a word to its root word, removing prefix and suffix "
   ]
  },
  {
   "cell_type": "code",
   "execution_count": null,
   "metadata": {
    "execution": {
     "iopub.execute_input": "2021-10-17T05:36:35.472036Z",
     "iopub.status.busy": "2021-10-17T05:36:35.471424Z",
     "iopub.status.idle": "2021-10-17T05:36:35.475825Z",
     "shell.execute_reply": "2021-10-17T05:36:35.475105Z",
     "shell.execute_reply.started": "2021-10-17T05:36:35.472009Z"
    }
   },
   "outputs": [],
   "source": [
    "port_stem = PorterStemmer()"
   ]
  },
  {
   "cell_type": "markdown",
   "metadata": {},
   "source": [
    "#### Defining the stemmer function"
   ]
  },
  {
   "cell_type": "code",
   "execution_count": null,
   "metadata": {
    "execution": {
     "iopub.execute_input": "2021-10-17T05:36:37.054479Z",
     "iopub.status.busy": "2021-10-17T05:36:37.053813Z",
     "iopub.status.idle": "2021-10-17T05:36:37.059172Z",
     "shell.execute_reply": "2021-10-17T05:36:37.058439Z",
     "shell.execute_reply.started": "2021-10-17T05:36:37.054443Z"
    }
   },
   "outputs": [],
   "source": [
    "def stemming(content):\n",
    "    stemmed_content = re.sub('[^a-zA-Z]',' ',content)\n",
    "    stemmed_content = stemmed_content.lower()\n",
    "    stemmed_content = stemmed_content.split()\n",
    "    stemmed_content = [port_stem.stem(word) for word in stemmed_content if not word in stopwords.words('english')]\n",
    "    stemmed_content = ' '.join(stemmed_content)\n",
    "    return stemmed_content"
   ]
  },
  {
   "cell_type": "code",
   "execution_count": null,
   "metadata": {
    "execution": {
     "iopub.execute_input": "2021-10-17T05:36:39.496403Z",
     "iopub.status.busy": "2021-10-17T05:36:39.495735Z",
     "iopub.status.idle": "2021-10-17T05:37:23.314177Z",
     "shell.execute_reply": "2021-10-17T05:37:23.31332Z",
     "shell.execute_reply.started": "2021-10-17T05:36:39.496369Z"
    }
   },
   "outputs": [],
   "source": [
    "news_data['content'] = news_data['content'].apply(stemming)"
   ]
  },
  {
   "cell_type": "code",
   "execution_count": null,
   "metadata": {
    "execution": {
     "iopub.execute_input": "2021-10-17T05:37:35.438338Z",
     "iopub.status.busy": "2021-10-17T05:37:35.438091Z",
     "iopub.status.idle": "2021-10-17T05:37:35.445537Z",
     "shell.execute_reply": "2021-10-17T05:37:35.44411Z",
     "shell.execute_reply.started": "2021-10-17T05:37:35.438314Z"
    }
   },
   "outputs": [],
   "source": [
    "print(news_data['content'])"
   ]
  },
  {
   "cell_type": "code",
   "execution_count": null,
   "metadata": {
    "execution": {
     "iopub.execute_input": "2021-10-17T05:37:39.077151Z",
     "iopub.status.busy": "2021-10-17T05:37:39.076918Z",
     "iopub.status.idle": "2021-10-17T05:37:39.085408Z",
     "shell.execute_reply": "2021-10-17T05:37:39.084388Z",
     "shell.execute_reply.started": "2021-10-17T05:37:39.077129Z"
    }
   },
   "outputs": [],
   "source": [
    "# Seperating the data and the label \n",
    "\n",
    "X = news_data['content'].values\n",
    "Y = news_data['label'].values"
   ]
  },
  {
   "cell_type": "markdown",
   "metadata": {},
   "source": [
    "# Vectorizing the content data"
   ]
  },
  {
   "cell_type": "code",
   "execution_count": null,
   "metadata": {
    "execution": {
     "iopub.execute_input": "2021-10-17T05:37:40.045486Z",
     "iopub.status.busy": "2021-10-17T05:37:40.045236Z",
     "iopub.status.idle": "2021-10-17T05:37:40.524267Z",
     "shell.execute_reply": "2021-10-17T05:37:40.522975Z",
     "shell.execute_reply.started": "2021-10-17T05:37:40.045461Z"
    }
   },
   "outputs": [],
   "source": [
    "# converting the textual data into numerical data \n",
    "vectorizer = TfidfVectorizer()\n",
    "vectorizer.fit(X)\n",
    "X = vectorizer.transform(X)"
   ]
  },
  {
   "cell_type": "markdown",
   "metadata": {},
   "source": [
    "# Splitting the dataset into Training(80%) and Testing(20%)"
   ]
  },
  {
   "cell_type": "code",
   "execution_count": null,
   "metadata": {
    "execution": {
     "iopub.execute_input": "2021-10-17T05:37:45.429433Z",
     "iopub.status.busy": "2021-10-17T05:37:45.429009Z",
     "iopub.status.idle": "2021-10-17T05:37:45.450396Z",
     "shell.execute_reply": "2021-10-17T05:37:45.448882Z",
     "shell.execute_reply.started": "2021-10-17T05:37:45.429408Z"
    }
   },
   "outputs": [],
   "source": [
    "X_train, X_test, Y_train, Y_test = train_test_split(X,Y, test_size=0.2, stratify=Y, random_state=2)"
   ]
  },
  {
   "cell_type": "markdown",
   "metadata": {},
   "source": [
    "# Training the Logistic Regression Model"
   ]
  },
  {
   "cell_type": "code",
   "execution_count": null,
   "metadata": {
    "execution": {
     "iopub.execute_input": "2021-10-17T05:37:50.964827Z",
     "iopub.status.busy": "2021-10-17T05:37:50.964273Z",
     "iopub.status.idle": "2021-10-17T05:37:50.969178Z",
     "shell.execute_reply": "2021-10-17T05:37:50.967776Z",
     "shell.execute_reply.started": "2021-10-17T05:37:50.9648Z"
    }
   },
   "outputs": [],
   "source": [
    "model = LogisticRegression()"
   ]
  },
  {
   "cell_type": "code",
   "execution_count": null,
   "metadata": {
    "execution": {
     "iopub.execute_input": "2021-10-17T05:37:51.242189Z",
     "iopub.status.busy": "2021-10-17T05:37:51.241961Z",
     "iopub.status.idle": "2021-10-17T05:37:51.628401Z",
     "shell.execute_reply": "2021-10-17T05:37:51.627689Z",
     "shell.execute_reply.started": "2021-10-17T05:37:51.242167Z"
    }
   },
   "outputs": [],
   "source": [
    "model.fit(X_train, Y_train)"
   ]
  },
  {
   "cell_type": "markdown",
   "metadata": {},
   "source": [
    "# Model Evaluation"
   ]
  },
  {
   "cell_type": "markdown",
   "metadata": {},
   "source": [
    "#### A. On Training Data"
   ]
  },
  {
   "cell_type": "code",
   "execution_count": null,
   "metadata": {
    "execution": {
     "iopub.execute_input": "2021-10-17T05:37:56.433381Z",
     "iopub.status.busy": "2021-10-17T05:37:56.433129Z",
     "iopub.status.idle": "2021-10-17T05:37:56.438646Z",
     "shell.execute_reply": "2021-10-17T05:37:56.437522Z",
     "shell.execute_reply.started": "2021-10-17T05:37:56.433353Z"
    }
   },
   "outputs": [],
   "source": [
    "X_train_prediction = model.predict(X_train)"
   ]
  },
  {
   "cell_type": "code",
   "execution_count": null,
   "metadata": {
    "execution": {
     "iopub.execute_input": "2021-10-17T05:37:56.755149Z",
     "iopub.status.busy": "2021-10-17T05:37:56.754854Z",
     "iopub.status.idle": "2021-10-17T05:37:56.761205Z",
     "shell.execute_reply": "2021-10-17T05:37:56.760319Z",
     "shell.execute_reply.started": "2021-10-17T05:37:56.755117Z"
    }
   },
   "outputs": [],
   "source": [
    "training_data_accuracy = accuracy_score(X_train_prediction, Y_train)"
   ]
  },
  {
   "cell_type": "code",
   "execution_count": null,
   "metadata": {
    "execution": {
     "iopub.execute_input": "2021-10-17T05:37:58.917301Z",
     "iopub.status.busy": "2021-10-17T05:37:58.917072Z",
     "iopub.status.idle": "2021-10-17T05:37:58.922752Z",
     "shell.execute_reply": "2021-10-17T05:37:58.92122Z",
     "shell.execute_reply.started": "2021-10-17T05:37:58.917278Z"
    }
   },
   "outputs": [],
   "source": [
    " print('Accuracy score of training data :', training_data_accuracy)"
   ]
  },
  {
   "cell_type": "markdown",
   "metadata": {},
   "source": [
    "#### B. On Testing Data"
   ]
  },
  {
   "cell_type": "code",
   "execution_count": null,
   "metadata": {
    "execution": {
     "iopub.execute_input": "2021-10-17T05:38:01.341246Z",
     "iopub.status.busy": "2021-10-17T05:38:01.340257Z",
     "iopub.status.idle": "2021-10-17T05:38:01.347981Z",
     "shell.execute_reply": "2021-10-17T05:38:01.346442Z",
     "shell.execute_reply.started": "2021-10-17T05:38:01.341196Z"
    }
   },
   "outputs": [],
   "source": [
    "X_test_prediction = model.predict(X_test)\n",
    "testing_data_accuracy = accuracy_score(X_test_prediction, Y_test)"
   ]
  },
  {
   "cell_type": "code",
   "execution_count": null,
   "metadata": {
    "execution": {
     "iopub.execute_input": "2021-10-17T05:38:01.653021Z",
     "iopub.status.busy": "2021-10-17T05:38:01.65276Z",
     "iopub.status.idle": "2021-10-17T05:38:01.658383Z",
     "shell.execute_reply": "2021-10-17T05:38:01.657634Z",
     "shell.execute_reply.started": "2021-10-17T05:38:01.652987Z"
    }
   },
   "outputs": [],
   "source": [
    " print('Accuracy score of testing data :', testing_data_accuracy)"
   ]
  },
  {
   "cell_type": "markdown",
   "metadata": {},
   "source": [
    "## If you found this useful, kindly upvote and comment your views :) "
   ]
  }
 ],
 "metadata": {
  "kernelspec": {
   "display_name": "Python 3 (ipykernel)",
   "language": "python",
   "name": "python3"
  },
  "language_info": {
   "codemirror_mode": {
    "name": "ipython",
    "version": 3
   },
   "file_extension": ".py",
   "mimetype": "text/x-python",
   "name": "python",
   "nbconvert_exporter": "python",
   "pygments_lexer": "ipython3",
   "version": "3.8.11"
  }
 },
 "nbformat": 4,
 "nbformat_minor": 4
}
